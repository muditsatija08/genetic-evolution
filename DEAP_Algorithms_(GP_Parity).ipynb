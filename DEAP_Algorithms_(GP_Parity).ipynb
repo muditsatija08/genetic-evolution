{
  "cells": [
    {
      "cell_type": "markdown",
      "metadata": {
        "id": "view-in-github",
        "colab_type": "text"
      },
      "source": [
        "<a href=\"https://colab.research.google.com/github/muditsatija08/genetic-evolution/blob/main/DEAP_Algorithms_(GP_Parity).ipynb\" target=\"_parent\"><img src=\"https://colab.research.google.com/assets/colab-badge.svg\" alt=\"Open In Colab\"/></a>"
      ]
    },
    {
      "cell_type": "markdown",
      "metadata": {
        "id": "8ZlkRjXExX4w"
      },
      "source": [
        "# GP Applied to the Even-Parity Problem"
      ]
    },
    {
      "cell_type": "markdown",
      "metadata": {
        "id": "K4JDHgTKxX4y"
      },
      "source": [
        "This time we apply GP to a Boolean problem -- this has a different type and different operators, but the algorithm remains the same.\n",
        "\n",
        "The code in this notebook is a bit tighter, that is, although slightly more difficult to read, it is a lot more reusable. First of all, here's a nice piece of code to widen our notebook to make to easier to read the output we get later on."
      ]
    },
    {
      "cell_type": "markdown",
      "metadata": {
        "id": "88geldaExX4y"
      },
      "source": [
        "Install DEAP."
      ]
    },
    {
      "cell_type": "code",
      "execution_count": 1,
      "metadata": {
        "colab": {
          "base_uri": "https://localhost:8080/"
        },
        "id": "mdi08igxxX4z",
        "outputId": "8deb1370-6bb2-4770-cb7a-059cdaf0e91e"
      },
      "outputs": [
        {
          "output_type": "stream",
          "name": "stdout",
          "text": [
            "Collecting deap\n",
            "  Downloading deap-1.4.1-cp310-cp310-manylinux_2_5_x86_64.manylinux1_x86_64.manylinux_2_17_x86_64.manylinux2014_x86_64.whl (135 kB)\n",
            "\u001b[2K     \u001b[90m━━━━━━━━━━━━━━━━━━━━━━━━━━━━━━━━━━━━━━━━\u001b[0m \u001b[32m135.4/135.4 kB\u001b[0m \u001b[31m4.6 MB/s\u001b[0m eta \u001b[36m0:00:00\u001b[0m\n",
            "\u001b[?25hRequirement already satisfied: numpy in /usr/local/lib/python3.10/dist-packages (from deap) (1.23.5)\n",
            "Installing collected packages: deap\n",
            "Successfully installed deap-1.4.1\n"
          ]
        }
      ],
      "source": [
        "!pip install deap"
      ]
    },
    {
      "cell_type": "code",
      "execution_count": 2,
      "metadata": {
        "colab": {
          "base_uri": "https://localhost:8080/",
          "height": 17
        },
        "id": "_A2SMHuyxX4z",
        "outputId": "bd6e9042-1609-4c57-fdbc-cbd4c422af7d"
      },
      "outputs": [
        {
          "output_type": "display_data",
          "data": {
            "text/plain": [
              "<IPython.core.display.HTML object>"
            ],
            "text/html": [
              "<style>.container { width:100% !important; }</style>"
            ]
          },
          "metadata": {}
        }
      ],
      "source": [
        "from IPython.core.display import display, HTML\n",
        "display(HTML(\"<style>.container { width:100% !important; }</style>\"))"
      ]
    },
    {
      "cell_type": "markdown",
      "metadata": {
        "id": "xYDyNra6xX40"
      },
      "source": [
        "Import our tools as before, except this time we also include **itertools** and **networks** which contain some nice iterative tools (for creating our test set) and graph drawing functionality, respectively."
      ]
    },
    {
      "cell_type": "code",
      "execution_count": 3,
      "metadata": {
        "id": "tkTkvaapxX40"
      },
      "outputs": [],
      "source": [
        "import operator\n",
        "import math\n",
        "import random\n",
        "\n",
        "import numpy\n",
        "\n",
        "from deap import algorithms\n",
        "from deap import base\n",
        "from deap import creator\n",
        "from deap import tools\n",
        "from deap import gp\n",
        "\n",
        "\n",
        "import matplotlib.pyplot as plt\n",
        "\n",
        "import itertools\n",
        "import networkx as nx\n",
        "\n"
      ]
    },
    {
      "cell_type": "markdown",
      "metadata": {
        "id": "DCHUjQx_xX40"
      },
      "source": [
        "Set our Genetic Programming parameters.  Notice that these are virtually the same as the GA ones."
      ]
    },
    {
      "cell_type": "code",
      "execution_count": 4,
      "metadata": {
        "id": "IXb7_JNCxX40"
      },
      "outputs": [],
      "source": [
        "# Genetic Programming constants:\n",
        "POPULATION_SIZE = 2000\n",
        "P_CROSSOVER = 0.9\n",
        "P_MUTATION = 0.01\n",
        "MAX_GENERATIONS = 200\n",
        "HALL_OF_FAME_SIZE = 10\n"
      ]
    },
    {
      "cell_type": "markdown",
      "metadata": {
        "id": "qoiGuQ7TxX40"
      },
      "source": [
        "Set the random seed."
      ]
    },
    {
      "cell_type": "code",
      "execution_count": 5,
      "metadata": {
        "id": "xpIOT6mwxX40"
      },
      "outputs": [],
      "source": [
        "RANDOM_SEED = 412\n",
        "random.seed(RANDOM_SEED)"
      ]
    },
    {
      "cell_type": "markdown",
      "metadata": {
        "id": "vSBOj6jxxX41"
      },
      "source": [
        "Here are some GP-specific constants. Keeping them together like this will make later editing easier."
      ]
    },
    {
      "cell_type": "code",
      "execution_count": 6,
      "metadata": {
        "id": "gLrOTXyxxX41"
      },
      "outputs": [],
      "source": [
        "MIN_TREE_HEIGHT = 3\n",
        "MAX_TREE_HEIGHT = 5\n",
        "LIMIT_TREE_HEIGHT = 17\n",
        "MUT_MIN_TREE_HEIGHT = 0\n",
        "MUT_MAX_TREE_HEIGHT = 2"
      ]
    },
    {
      "cell_type": "markdown",
      "metadata": {
        "id": "QHD4Edk3xX41"
      },
      "source": [
        "Some problem constants. One nice thing about this problem is that it is of scalable difficulty, so we name make it more difficult simply by increasing the number of inputs."
      ]
    },
    {
      "cell_type": "code",
      "execution_count": 7,
      "metadata": {
        "id": "PqVG6Bu-xX41"
      },
      "outputs": [],
      "source": [
        "NUM_INPUTS = 6\n",
        "NUM_COMBINATIONS = 2 ** NUM_INPUTS"
      ]
    },
    {
      "cell_type": "markdown",
      "metadata": {
        "id": "Z62bB63pxX41"
      },
      "source": [
        "Here's our fitness function. This is a bit more involved than before as we first create all our test cases and then write a function to calculate the party error. We declare a wrapper function, **getCost** to make this code more resuable. This way we can change the fitness function and we only need to change the name in **getCost**."
      ]
    },
    {
      "cell_type": "code",
      "execution_count": 8,
      "metadata": {
        "id": "xcGj2RyXxX41"
      },
      "outputs": [],
      "source": [
        "# calculate the truth table of even parity check:\n",
        "parityIn = list(itertools.product([0, 1], repeat=NUM_INPUTS))\n",
        "parityOut = []\n",
        "for row in parityIn:\n",
        "    parityOut.append(sum(row) % 2)\n",
        "\n",
        "# calculate the difference between the results of the\n",
        "# generated function and the expected parity results:\n",
        "def parityError(individual):\n",
        "    func = toolbox.compile(expr=individual)\n",
        "    return sum(func(*pIn) != pOut for pIn, pOut in zip(parityIn, parityOut))\n",
        "\n",
        "# fitness measure:\n",
        "def getCost(individual):\n",
        "    return parityError(individual), # return a tuple"
      ]
    },
    {
      "cell_type": "markdown",
      "metadata": {
        "id": "O6YOZgWJxX41"
      },
      "source": [
        "Add our functions and terminals. This time we are using Boolean operators and values."
      ]
    },
    {
      "cell_type": "code",
      "execution_count": 9,
      "metadata": {
        "id": "5k_9EKlLxX41"
      },
      "outputs": [],
      "source": [
        "# create the primitive set:\n",
        "primitiveSet = gp.PrimitiveSet(\"main\", NUM_INPUTS, \"in_\")\n",
        "primitiveSet.addPrimitive(operator.and_, 2)\n",
        "primitiveSet.addPrimitive(operator.or_, 2)\n",
        "primitiveSet.addPrimitive(operator.xor, 2)\n",
        "primitiveSet.addPrimitive(operator.not_, 1)\n",
        "\n",
        "# add terminal values:\n",
        "primitiveSet.addTerminal(1)\n",
        "primitiveSet.addTerminal(0)"
      ]
    },
    {
      "cell_type": "markdown",
      "metadata": {
        "id": "z_oWP8guxX42"
      },
      "source": [
        "Create our toolbox. This is very similar to the Symbolic Regression notebook except we are using the parameters declared up above."
      ]
    },
    {
      "cell_type": "code",
      "execution_count": 10,
      "metadata": {
        "id": "UKrHMgbGxX42"
      },
      "outputs": [],
      "source": [
        "toolbox = base.Toolbox()\n",
        "\n",
        "# define a single objective, minimizing fitness strategy:\n",
        "creator.create(\"FitnessMin\", base.Fitness, weights=(-1.0,))\n",
        "\n",
        "# create the Individual class based on the primitive tree:\n",
        "creator.create(\"Individual\", gp.PrimitiveTree, fitness=creator.FitnessMin)\n",
        "\n",
        "# create a helper function for creating random trees using the primitive set:\n",
        "toolbox.register(\"expr\", gp.genFull, pset=primitiveSet, min_=MIN_TREE_HEIGHT, max_=MAX_TREE_HEIGHT)\n",
        "\n",
        "# create the individual operator to fill up an Individual instance:\n",
        "toolbox.register(\"individualCreator\", tools.initIterate, creator.Individual, toolbox.expr)\n",
        "\n",
        "# create the population operator to generate a list of individuals:\n",
        "toolbox.register(\"populationCreator\", tools.initRepeat, list, toolbox.individualCreator)\n",
        "\n",
        "# create an operator to compile the primitive tree into python code:\n",
        "toolbox.register(\"compile\", gp.compile, pset=primitiveSet)\n",
        "\n",
        "toolbox.register(\"evaluate\", getCost)\n",
        "\n",
        "# genetic operators:\n",
        "toolbox.register(\"select\", tools.selTournament, tournsize=2)\n",
        "toolbox.register(\"mate\", gp.cxOnePoint)\n",
        "toolbox.register(\"expr_mut\", gp.genGrow, min_=MUT_MIN_TREE_HEIGHT, max_=MUT_MAX_TREE_HEIGHT)\n",
        "toolbox.register(\"mutate\", gp.mutUniform, expr=toolbox.expr_mut, pset=primitiveSet)\n",
        "\n",
        "# bloat control:\n",
        "toolbox.decorate(\"mate\", gp.staticLimit(key=operator.attrgetter(\"height\"), max_value=LIMIT_TREE_HEIGHT))\n",
        "toolbox.decorate(\"mutate\", gp.staticLimit(key=operator.attrgetter(\"height\"), max_value=LIMIT_TREE_HEIGHT))\n",
        "\n"
      ]
    },
    {
      "cell_type": "markdown",
      "metadata": {
        "id": "Ri2_Ysn0xX42"
      },
      "source": [
        "Set up our population as before"
      ]
    },
    {
      "cell_type": "code",
      "execution_count": 11,
      "metadata": {
        "id": "bL_owcqvxX42"
      },
      "outputs": [],
      "source": [
        "population = toolbox.populationCreator(n=POPULATION_SIZE)\n",
        "# define the hall-of-fame object:\n",
        "hof = tools.HallOfFame(HALL_OF_FAME_SIZE)\n"
      ]
    },
    {
      "cell_type": "markdown",
      "metadata": {
        "id": "ShGjfl_OxX42"
      },
      "source": [
        "Create a statistics object. This time we're going to use the **MultiStatistics** tool because we want to record statistics about **size** as well as **fitness**."
      ]
    },
    {
      "cell_type": "code",
      "execution_count": 12,
      "metadata": {
        "id": "nTi-QU_uxX42"
      },
      "outputs": [],
      "source": [
        "stats_fit = tools.Statistics(lambda ind: ind.fitness.values)\n",
        "stats_size = tools.Statistics(len)\n",
        "mstats = tools.MultiStatistics(fitness=stats_fit, size=stats_size)\n",
        "mstats.register(\"avg\", numpy.mean)\n",
        "mstats.register(\"std\", numpy.std)\n",
        "mstats.register(\"min\", numpy.min)\n",
        "mstats.register(\"max\", numpy.max)\n"
      ]
    },
    {
      "cell_type": "markdown",
      "metadata": {
        "id": "ZmWccwItxX43"
      },
      "source": [
        "Run our GP. Notice how much slower this one is, due to the much larger population size."
      ]
    },
    {
      "cell_type": "code",
      "execution_count": 13,
      "metadata": {
        "colab": {
          "base_uri": "https://localhost:8080/"
        },
        "id": "a-x9niMTxX43",
        "outputId": "64082c2c-fe58-4836-e9f0-5793458aa4a2"
      },
      "outputs": [
        {
          "output_type": "stream",
          "name": "stdout",
          "text": [
            "   \t      \t                    fitness                     \t                     size                     \n",
            "   \t      \t------------------------------------------------\t----------------------------------------------\n",
            "gen\tnevals\tavg   \tgen\tmax\tmin\tnevals\tstd     \tavg    \tgen\tmax\tmin\tnevals\tstd   \n",
            "0  \t2000  \t32.009\t0  \t40 \t24 \t2000  \t0.671505\t22.5945\t0  \t60 \t4  \t2000  \t13.194\n",
            "1  \t1816  \t31.9305\t1  \t40 \t24 \t1816  \t0.6969  \t23.144 \t1  \t69 \t2  \t1816  \t14.243\n",
            "2  \t1778  \t31.8885\t2  \t40 \t16 \t1778  \t0.924158\t24.1045\t2  \t81 \t1  \t1778  \t15.3416\n",
            "3  \t1801  \t31.865 \t3  \t40 \t16 \t1801  \t1.03527 \t25.423 \t3  \t81 \t2  \t1801  \t16.1789\n",
            "4  \t1796  \t31.791 \t4  \t40 \t22 \t1796  \t1.12708 \t26.556 \t4  \t92 \t2  \t1796  \t17.4976\n",
            "5  \t1817  \t31.6685\t5  \t40 \t23 \t1817  \t1.2902  \t27.6965\t5  \t91 \t1  \t1817  \t18.3071\n",
            "6  \t1810  \t31.5675\t6  \t38 \t22 \t1810  \t1.48608 \t30.0145\t6  \t113\t2  \t1810  \t19.427 \n",
            "7  \t1802  \t31.3585\t7  \t40 \t20 \t1802  \t1.79999 \t33.1   \t7  \t113\t2  \t1802  \t21.2185\n",
            "8  \t1802  \t31.089 \t8  \t40 \t20 \t1802  \t2.0727  \t38.0255\t8  \t150\t1  \t1802  \t22.0814\n",
            "9  \t1797  \t30.835 \t9  \t40 \t22 \t1797  \t2.27811 \t41.5225\t9  \t144\t2  \t1797  \t22.9631\n",
            "10 \t1813  \t30.683 \t10 \t46 \t16 \t1813  \t2.48103 \t46.098 \t10 \t143\t1  \t1813  \t23.016 \n",
            "11 \t1773  \t30.48  \t11 \t40 \t16 \t1773  \t2.65981 \t49.872 \t11 \t145\t1  \t1773  \t22.8239\n",
            "12 \t1817  \t30.18  \t12 \t40 \t16 \t1817  \t2.77229 \t54.0065\t12 \t137\t2  \t1817  \t23.3377\n",
            "13 \t1833  \t29.7575\t13 \t45 \t16 \t1833  \t2.99695 \t57.8665\t13 \t166\t1  \t1833  \t23.6264\n",
            "14 \t1790  \t29.4415\t14 \t46 \t16 \t1790  \t3.25462 \t59.721 \t14 \t154\t1  \t1790  \t23.7256\n",
            "15 \t1812  \t29.0685\t15 \t40 \t16 \t1812  \t3.45004 \t62.233 \t15 \t158\t3  \t1812  \t23.8786\n",
            "16 \t1812  \t28.551 \t16 \t40 \t16 \t1812  \t3.52355 \t65.4145\t16 \t173\t4  \t1812  \t24.8963\n",
            "17 \t1829  \t28.257 \t17 \t48 \t16 \t1829  \t3.84174 \t67.7755\t17 \t159\t3  \t1829  \t25.8378\n",
            "18 \t1824  \t27.6665\t18 \t38 \t12 \t1824  \t3.9592  \t70.329 \t18 \t191\t5  \t1824  \t26.8558\n",
            "19 \t1768  \t27.344 \t19 \t44 \t10 \t1768  \t4.32281 \t72.7945\t19 \t193\t1  \t1768  \t28.5554\n",
            "20 \t1777  \t26.723 \t20 \t48 \t10 \t1777  \t4.53059 \t75.9175\t20 \t193\t3  \t1777  \t29.2501\n",
            "21 \t1820  \t26.111 \t21 \t48 \t10 \t1820  \t4.62587 \t78.466 \t21 \t196\t8  \t1820  \t29.5465\n",
            "22 \t1805  \t25.5725\t22 \t48 \t8  \t1805  \t4.78014 \t80.6695\t22 \t196\t3  \t1805  \t31.6797\n",
            "23 \t1787  \t24.959 \t23 \t49 \t8  \t1787  \t5.09817 \t83.3435\t23 \t216\t3  \t1787  \t31.384 \n",
            "24 \t1808  \t24.168 \t24 \t48 \t8  \t1808  \t5.48605 \t85.071 \t24 \t204\t3  \t1808  \t30.6699\n",
            "25 \t1825  \t23.449 \t25 \t52 \t8  \t1825  \t5.73048 \t87.004 \t25 \t206\t6  \t1825  \t30.7209\n",
            "26 \t1788  \t22.772 \t26 \t48 \t10 \t1788  \t5.8614  \t87.2195\t26 \t206\t1  \t1788  \t29.5055\n",
            "27 \t1802  \t22.06  \t27 \t48 \t6  \t1802  \t6.14251 \t89.5875\t27 \t186\t1  \t1802  \t29.0653\n",
            "28 \t1780  \t21.2665\t28 \t48 \t6  \t1780  \t6.26223 \t90.715 \t28 \t196\t15 \t1780  \t29.2105\n",
            "29 \t1795  \t20.7515\t29 \t48 \t6  \t1795  \t6.55101 \t90.332 \t29 \t219\t13 \t1795  \t29.9565\n",
            "30 \t1812  \t20.3755\t30 \t54 \t4  \t1812  \t7.05716 \t90.452 \t30 \t215\t12 \t1812  \t31.1994\n",
            "31 \t1797  \t19.856 \t31 \t54 \t4  \t1797  \t7.13809 \t90.2645\t31 \t215\t12 \t1797  \t31.4891\n",
            "32 \t1785  \t19.14  \t32 \t49 \t0  \t1785  \t7.16948 \t91.413 \t32 \t215\t9  \t1785  \t32.3144\n",
            "33 \t1808  \t18.7275\t33 \t52 \t0  \t1808  \t7.40657 \t94.1475\t33 \t265\t6  \t1808  \t33.7822\n",
            "34 \t1818  \t18.196 \t34 \t50 \t0  \t1818  \t7.40713 \t95.0235\t34 \t213\t5  \t1818  \t34.1396\n",
            "35 \t1835  \t17.6305\t35 \t53 \t0  \t1835  \t7.4619  \t97.0095\t35 \t213\t9  \t1835  \t34.3636\n",
            "36 \t1771  \t17.0415\t36 \t64 \t4  \t1771  \t7.72656 \t97.0615\t36 \t226\t3  \t1771  \t35.0762\n",
            "37 \t1828  \t16.0505\t37 \t48 \t0  \t1828  \t7.58459 \t98.282 \t37 \t214\t5  \t1828  \t34.8745\n",
            "38 \t1809  \t15.983 \t38 \t56 \t0  \t1809  \t8.284   \t98.2695\t38 \t201\t7  \t1809  \t34.6452\n",
            "39 \t1811  \t15.4415\t39 \t56 \t0  \t1811  \t8.59026 \t96.5065\t39 \t229\t12 \t1811  \t35.3676\n",
            "40 \t1784  \t15.067 \t40 \t56 \t0  \t1784  \t8.55351 \t96.3245\t40 \t261\t10 \t1784  \t35.1746\n",
            "41 \t1787  \t14.5065\t41 \t64 \t0  \t1787  \t8.69643 \t97.3625\t41 \t237\t10 \t1787  \t34.852 \n",
            "42 \t1817  \t13.6455\t42 \t64 \t0  \t1817  \t8.69901 \t97.2945\t42 \t264\t18 \t1817  \t34.1343\n",
            "43 \t1834  \t13.4845\t43 \t64 \t0  \t1834  \t9.1761  \t97.5105\t43 \t218\t11 \t1834  \t33.2425\n",
            "44 \t1808  \t12.796 \t44 \t60 \t0  \t1808  \t9.31077 \t98.323 \t44 \t218\t1  \t1808  \t32.5576\n",
            "45 \t1816  \t12.1975\t45 \t62 \t0  \t1816  \t9.68538 \t100.484\t45 \t218\t8  \t1816  \t32.6803\n",
            "46 \t1803  \t11.6125\t46 \t64 \t0  \t1803  \t9.78281 \t101.522\t46 \t219\t14 \t1803  \t32.5204\n",
            "47 \t1782  \t11.2955\t47 \t64 \t0  \t1782  \t10.2933 \t102.072\t47 \t257\t16 \t1782  \t33.2059\n",
            "48 \t1820  \t11.04  \t48 \t64 \t0  \t1820  \t10.7908 \t101.005\t48 \t230\t3  \t1820  \t32.9278\n",
            "49 \t1791  \t10.385 \t49 \t64 \t0  \t1791  \t10.8662 \t99.278 \t49 \t260\t8  \t1791  \t32.45  \n",
            "50 \t1787  \t10.173 \t50 \t64 \t0  \t1787  \t11.0378 \t99.2425\t50 \t227\t13 \t1787  \t32.3823\n",
            "51 \t1820  \t9.733  \t51 \t64 \t0  \t1820  \t11.491  \t99.572 \t51 \t237\t13 \t1820  \t33.2299\n",
            "52 \t1811  \t9.383  \t52 \t64 \t0  \t1811  \t11.4786 \t101.332\t52 \t227\t1  \t1811  \t33.2851\n",
            "53 \t1846  \t8.955  \t53 \t64 \t0  \t1846  \t11.701  \t103.657\t53 \t220\t1  \t1846  \t34.0171\n",
            "54 \t1809  \t8.049  \t54 \t64 \t0  \t1809  \t11.6387 \t103.722\t54 \t231\t2  \t1809  \t34.4136\n",
            "55 \t1825  \t8.428  \t55 \t64 \t0  \t1825  \t12.3868 \t104.418\t55 \t238\t14 \t1825  \t34.6534\n",
            "56 \t1799  \t7.7815 \t56 \t64 \t0  \t1799  \t12.0405 \t105.103\t56 \t250\t1  \t1799  \t35.0752\n",
            "57 \t1799  \t7.144  \t57 \t64 \t0  \t1799  \t11.8603 \t105.834\t57 \t252\t5  \t1799  \t34.9399\n",
            "58 \t1807  \t6.632  \t58 \t64 \t0  \t1807  \t11.6705 \t108.84 \t58 \t248\t4  \t1807  \t34.9278\n",
            "59 \t1767  \t7.057  \t59 \t64 \t0  \t1767  \t12.0591 \t111.826\t59 \t240\t15 \t1767  \t34.6977\n",
            "60 \t1850  \t7.1905 \t60 \t64 \t0  \t1850  \t12.1919 \t112.042\t60 \t215\t17 \t1850  \t34.9901\n",
            "61 \t1801  \t6.9005 \t61 \t64 \t0  \t1801  \t11.9056 \t113.675\t61 \t215\t5  \t1801  \t35.2408\n",
            "62 \t1832  \t6.502  \t62 \t64 \t0  \t1832  \t11.4918 \t116.594\t62 \t225\t14 \t1832  \t34.4139\n",
            "63 \t1782  \t6.022  \t63 \t64 \t0  \t1782  \t11.2579 \t118.51 \t63 \t224\t14 \t1782  \t34.5967\n",
            "64 \t1779  \t5.8635 \t64 \t64 \t0  \t1779  \t11.0488 \t120.001\t64 \t252\t10 \t1779  \t36.3839\n",
            "65 \t1789  \t5.61   \t65 \t64 \t0  \t1789  \t11.445  \t122.135\t65 \t228\t13 \t1789  \t36.0935\n",
            "66 \t1811  \t6.193  \t66 \t64 \t0  \t1811  \t11.5657 \t121.525\t66 \t238\t11 \t1811  \t36.6561\n",
            "67 \t1802  \t5.756  \t67 \t64 \t0  \t1802  \t11.2117 \t123.614\t67 \t240\t10 \t1802  \t36.9657\n",
            "68 \t1825  \t5.635  \t68 \t64 \t0  \t1825  \t11.0729 \t124.419\t68 \t238\t14 \t1825  \t37.0724\n",
            "69 \t1793  \t5.5545 \t69 \t64 \t0  \t1793  \t10.9674 \t125.464\t69 \t247\t3  \t1793  \t37.9488\n",
            "70 \t1807  \t5.763  \t70 \t64 \t0  \t1807  \t11.2708 \t126.083\t70 \t254\t7  \t1807  \t39.0029\n",
            "71 \t1799  \t5.289  \t71 \t64 \t0  \t1799  \t10.908  \t127.808\t71 \t263\t17 \t1799  \t40.2038\n",
            "72 \t1781  \t5.4205 \t72 \t64 \t0  \t1781  \t11.1043 \t127.614\t72 \t271\t8  \t1781  \t40.6903\n",
            "73 \t1818  \t5.6515 \t73 \t64 \t0  \t1818  \t11.4424 \t129.499\t73 \t273\t6  \t1818  \t42.4962\n",
            "74 \t1795  \t5.588  \t74 \t64 \t0  \t1795  \t11.3153 \t131.678\t74 \t281\t1  \t1795  \t42.4461\n",
            "75 \t1784  \t4.8845 \t75 \t48 \t0  \t1784  \t10.4373 \t133.415\t75 \t281\t27 \t1784  \t42.0639\n",
            "76 \t1807  \t5.3615 \t76 \t64 \t0  \t1807  \t10.9593 \t134.982\t76 \t284\t21 \t1807  \t42.6316\n",
            "77 \t1775  \t5.218  \t77 \t64 \t0  \t1775  \t10.9425 \t136.007\t77 \t283\t12 \t1775  \t43.2562\n",
            "78 \t1841  \t5.493  \t78 \t64 \t0  \t1841  \t11.2408 \t137.428\t78 \t284\t1  \t1841  \t43.0067\n",
            "79 \t1802  \t5.201  \t79 \t64 \t0  \t1802  \t11.0296 \t138.745\t79 \t311\t13 \t1802  \t42.8735\n",
            "80 \t1807  \t5.573  \t80 \t64 \t0  \t1807  \t11.1514 \t139.695\t80 \t303\t14 \t1807  \t43.3497\n",
            "81 \t1819  \t5.3345 \t81 \t64 \t0  \t1819  \t10.9795 \t142.559\t81 \t303\t12 \t1819  \t43.4264\n",
            "82 \t1807  \t4.703  \t82 \t60 \t0  \t1807  \t10.4363 \t146.01 \t82 \t320\t21 \t1807  \t42.5802\n",
            "83 \t1789  \t5.092  \t83 \t64 \t0  \t1789  \t10.9328 \t146.643\t83 \t319\t1  \t1789  \t43.7938\n",
            "84 \t1848  \t4.3775 \t84 \t64 \t0  \t1848  \t10.1719 \t147.371\t84 \t335\t29 \t1848  \t42.981 \n",
            "85 \t1784  \t4.7355 \t85 \t64 \t0  \t1784  \t10.6617 \t146.162\t85 \t337\t13 \t1784  \t42.85  \n",
            "86 \t1768  \t4.578  \t86 \t64 \t0  \t1768  \t10.4801 \t145.981\t86 \t341\t7  \t1768  \t43.7263\n",
            "87 \t1783  \t4.5705 \t87 \t64 \t0  \t1783  \t10.3501 \t146.97 \t87 \t340\t7  \t1783  \t44.5635\n",
            "88 \t1787  \t4.4885 \t88 \t64 \t0  \t1787  \t10.2426 \t148.559\t88 \t341\t5  \t1787  \t44.3283\n",
            "89 \t1797  \t4.2855 \t89 \t64 \t0  \t1797  \t10.1968 \t151.045\t89 \t325\t7  \t1797  \t45.0617\n",
            "90 \t1836  \t4.2815 \t90 \t64 \t0  \t1836  \t10.1712 \t152.492\t90 \t331\t16 \t1836  \t46.2152\n",
            "91 \t1821  \t4.204  \t91 \t64 \t0  \t1821  \t10.1662 \t151.071\t91 \t331\t15 \t1821  \t45.6251\n",
            "92 \t1816  \t4.8285 \t92 \t64 \t0  \t1816  \t10.9661 \t152.399\t92 \t331\t15 \t1816  \t47.3031\n",
            "93 \t1789  \t4.453  \t93 \t48 \t0  \t1789  \t10.0912 \t153.487\t93 \t309\t24 \t1789  \t46.3481\n",
            "94 \t1806  \t4.8955 \t94 \t64 \t0  \t1806  \t10.8386 \t152.731\t94 \t339\t21 \t1806  \t46.6486\n",
            "95 \t1789  \t4.9555 \t95 \t64 \t0  \t1789  \t11.186  \t153.974\t95 \t299\t3  \t1789  \t47.3009\n",
            "96 \t1789  \t4.406  \t96 \t64 \t0  \t1789  \t10.224  \t155.577\t96 \t299\t23 \t1789  \t46.7669\n",
            "97 \t1800  \t4.7065 \t97 \t64 \t0  \t1800  \t10.6137 \t156.182\t97 \t305\t1  \t1800  \t47.106 \n",
            "98 \t1822  \t4.8335 \t98 \t64 \t0  \t1822  \t10.8131 \t154.925\t98 \t305\t24 \t1822  \t48.1852\n",
            "99 \t1809  \t4.603  \t99 \t64 \t0  \t1809  \t10.4983 \t154.483\t99 \t311\t18 \t1809  \t48.5862\n",
            "100\t1822  \t4.407  \t100\t64 \t0  \t1822  \t10.3546 \t154.249\t100\t311\t20 \t1822  \t47.7665\n",
            "101\t1777  \t4.4415 \t101\t64 \t0  \t1777  \t10.8377 \t154.605\t101\t316\t2  \t1777  \t48.2597\n",
            "102\t1803  \t4.708  \t102\t64 \t0  \t1803  \t10.6717 \t155.993\t102\t314\t24 \t1803  \t46.598 \n",
            "103\t1791  \t4.083  \t103\t64 \t0  \t1791  \t10.059  \t153.326\t103\t335\t10 \t1791  \t47.3745\n",
            "104\t1793  \t4.234  \t104\t64 \t0  \t1793  \t10.3818 \t154.185\t104\t344\t10 \t1793  \t48.6953\n",
            "105\t1786  \t4.634  \t105\t64 \t0  \t1786  \t10.711  \t154.918\t105\t308\t20 \t1786  \t49.5261\n",
            "106\t1822  \t4.3965 \t106\t64 \t0  \t1822  \t10.3277 \t154.827\t106\t295\t1  \t1822  \t47.9313\n",
            "107\t1799  \t4.102  \t107\t64 \t0  \t1799  \t10.0141 \t153.019\t107\t301\t18 \t1799  \t47.088 \n",
            "108\t1822  \t4.383  \t108\t64 \t0  \t1822  \t10.3916 \t151.91 \t108\t287\t18 \t1822  \t48.0502\n",
            "109\t1822  \t4.41   \t109\t64 \t0  \t1822  \t10.6464 \t150.119\t109\t285\t20 \t1822  \t48.9078\n",
            "110\t1821  \t4.682  \t110\t64 \t0  \t1821  \t10.6169 \t151.079\t110\t298\t1  \t1821  \t50.0245\n",
            "111\t1769  \t4.8805 \t111\t64 \t0  \t1769  \t10.9066 \t151.333\t111\t330\t2  \t1769  \t51.9462\n",
            "112\t1823  \t4.4705 \t112\t64 \t0  \t1823  \t10.4372 \t151.746\t112\t330\t13 \t1823  \t51.4467\n",
            "113\t1790  \t4.2985 \t113\t64 \t0  \t1790  \t10.3738 \t154.505\t113\t328\t19 \t1790  \t51.6269\n",
            "114\t1817  \t4.251  \t114\t64 \t0  \t1817  \t10.1949 \t155.351\t114\t328\t25 \t1817  \t51.8937\n",
            "115\t1817  \t4.4955 \t115\t64 \t0  \t1817  \t10.4416 \t154.649\t115\t356\t2  \t1817  \t52.982 \n",
            "116\t1779  \t4.3695 \t116\t64 \t0  \t1779  \t10.3661 \t155.7  \t116\t351\t20 \t1779  \t53.134 \n",
            "117\t1804  \t4.326  \t117\t64 \t0  \t1804  \t10.2656 \t155.725\t117\t358\t1  \t1804  \t52.4439\n",
            "118\t1808  \t4.7695 \t118\t64 \t0  \t1808  \t10.8072 \t158.165\t118\t348\t24 \t1808  \t54.8591\n",
            "119\t1772  \t4.161  \t119\t64 \t0  \t1772  \t10.2289 \t159.642\t119\t344\t20 \t1772  \t55.0073\n",
            "120\t1789  \t4.16   \t120\t64 \t0  \t1789  \t10.2525 \t160.173\t120\t339\t5  \t1789  \t55.4846\n",
            "121\t1837  \t4.492  \t121\t64 \t0  \t1837  \t10.7977 \t161.773\t121\t349\t1  \t1837  \t57.1552\n",
            "122\t1791  \t4.6095 \t122\t64 \t0  \t1791  \t10.6599 \t160.849\t122\t384\t9  \t1791  \t56.3249\n",
            "123\t1780  \t4.62   \t123\t64 \t0  \t1780  \t10.7907 \t161.202\t123\t329\t17 \t1780  \t56.6263\n",
            "124\t1810  \t4.2225 \t124\t64 \t0  \t1810  \t10.1653 \t161.382\t124\t343\t17 \t1810  \t56.8038\n",
            "125\t1790  \t3.6605 \t125\t64 \t0  \t1790  \t9.64983 \t164.137\t125\t332\t10 \t1790  \t57.8131\n",
            "126\t1793  \t4.5835 \t126\t64 \t0  \t1793  \t10.7357 \t163.178\t126\t367\t24 \t1793  \t56.7996\n",
            "127\t1782  \t4.07   \t127\t64 \t0  \t1782  \t10.1266 \t163.529\t127\t348\t17 \t1782  \t58.3727\n",
            "128\t1788  \t4.068  \t128\t64 \t0  \t1788  \t10.3913 \t163.317\t128\t351\t7  \t1788  \t57.1589\n",
            "129\t1824  \t4.0615 \t129\t64 \t0  \t1824  \t10.1926 \t162.759\t129\t349\t11 \t1824  \t58.2118\n",
            "130\t1801  \t4.3425 \t130\t64 \t0  \t1801  \t10.3526 \t163.799\t130\t351\t11 \t1801  \t57.0455\n",
            "131\t1781  \t4.2375 \t131\t64 \t0  \t1781  \t10.1588 \t163.366\t131\t376\t20 \t1781  \t59.064 \n",
            "132\t1803  \t3.7915 \t132\t64 \t0  \t1803  \t9.774   \t164.954\t132\t383\t20 \t1803  \t57.9097\n",
            "133\t1802  \t4.353  \t133\t64 \t0  \t1802  \t10.5398 \t162.665\t133\t373\t8  \t1802  \t57.8087\n",
            "134\t1770  \t4.045  \t134\t64 \t0  \t1770  \t10.2201 \t164.679\t134\t367\t3  \t1770  \t58.3956\n",
            "135\t1812  \t4.034  \t135\t64 \t0  \t1812  \t10.3404 \t162.132\t135\t367\t3  \t1812  \t57.796 \n",
            "136\t1806  \t3.71   \t136\t64 \t0  \t1806  \t9.79142 \t165.156\t136\t387\t14 \t1806  \t57.4909\n",
            "137\t1818  \t3.95   \t137\t64 \t0  \t1818  \t10.2206 \t165.415\t137\t329\t1  \t1818  \t58.5416\n",
            "138\t1786  \t4.0675 \t138\t64 \t0  \t1786  \t10.279  \t163.692\t138\t333\t7  \t1786  \t60.1602\n",
            "139\t1785  \t3.878  \t139\t64 \t0  \t1785  \t10.0108 \t165.31 \t139\t338\t15 \t1785  \t60.6426\n",
            "140\t1809  \t4.0905 \t140\t64 \t0  \t1809  \t10.399  \t166.226\t140\t350\t15 \t1809  \t59.0609\n",
            "141\t1830  \t3.747  \t141\t64 \t0  \t1830  \t9.96047 \t166.242\t141\t339\t10 \t1830  \t57.8671\n",
            "142\t1796  \t3.971  \t142\t64 \t0  \t1796  \t10.1828 \t165.768\t142\t436\t1  \t1796  \t57.5561\n",
            "143\t1796  \t3.5565 \t143\t64 \t0  \t1796  \t9.77506 \t165.812\t143\t336\t5  \t1796  \t57.4339\n",
            "144\t1774  \t3.5035 \t144\t64 \t0  \t1774  \t9.60161 \t165.795\t144\t359\t9  \t1774  \t57.6298\n",
            "145\t1825  \t4.111  \t145\t64 \t0  \t1825  \t10.3137 \t166.201\t145\t359\t1  \t1825  \t59.6232\n",
            "146\t1806  \t4.0165 \t146\t64 \t0  \t1806  \t10.1495 \t167.219\t146\t359\t16 \t1806  \t59.4669\n",
            "147\t1782  \t3.6665 \t147\t64 \t0  \t1782  \t9.81398 \t169.006\t147\t356\t15 \t1782  \t59.3307\n",
            "148\t1836  \t3.9625 \t148\t64 \t0  \t1836  \t10.0426 \t169.613\t148\t356\t3  \t1836  \t59.3695\n",
            "149\t1812  \t3.681  \t149\t64 \t0  \t1812  \t9.60355 \t169.238\t149\t332\t3  \t1812  \t59.5203\n",
            "150\t1745  \t4.038  \t150\t64 \t0  \t1745  \t10.3253 \t168.175\t150\t352\t3  \t1745  \t58.722 \n",
            "151\t1794  \t3.2825 \t151\t64 \t0  \t1794  \t9.36086 \t171.419\t151\t352\t15 \t1794  \t58.9395\n",
            "152\t1849  \t3.3445 \t152\t64 \t0  \t1849  \t9.37442 \t169.286\t152\t333\t1  \t1849  \t59.3945\n",
            "153\t1798  \t3.6515 \t153\t64 \t0  \t1798  \t9.9904  \t170.912\t153\t369\t1  \t1798  \t59.5194\n",
            "154\t1812  \t3.7115 \t154\t64 \t0  \t1812  \t9.7848  \t168.921\t154\t327\t1  \t1812  \t60.7357\n",
            "155\t1807  \t3.8595 \t155\t64 \t0  \t1807  \t10.0917 \t169.633\t155\t340\t15 \t1807  \t61.3709\n",
            "156\t1815  \t3.467  \t156\t44 \t0  \t1815  \t9.30489 \t171.674\t156\t335\t9  \t1815  \t60.7793\n",
            "157\t1833  \t3.9435 \t157\t64 \t0  \t1833  \t10.1814 \t171.744\t157\t335\t20 \t1833  \t60.4687\n",
            "158\t1797  \t3.9255 \t158\t64 \t0  \t1797  \t10.1008 \t172.605\t158\t328\t16 \t1797  \t60.8409\n",
            "159\t1797  \t3.896  \t159\t64 \t0  \t1797  \t10.2541 \t173.52 \t159\t332\t6  \t1797  \t60.7047\n",
            "160\t1830  \t3.8235 \t160\t64 \t0  \t1830  \t9.99947 \t174.139\t160\t327\t17 \t1830  \t59.4665\n",
            "161\t1810  \t3.8435 \t161\t64 \t0  \t1810  \t9.90803 \t176.429\t161\t341\t3  \t1810  \t60.2572\n",
            "162\t1827  \t3.9155 \t162\t64 \t0  \t1827  \t9.97659 \t176.583\t162\t341\t13 \t1827  \t60.0828\n",
            "163\t1778  \t3.758  \t163\t64 \t0  \t1778  \t9.94402 \t176.454\t163\t364\t22 \t1778  \t58.7399\n",
            "164\t1828  \t3.558  \t164\t64 \t0  \t1828  \t9.66781 \t175.743\t164\t362\t15 \t1828  \t61.0126\n",
            "165\t1778  \t3.73   \t165\t64 \t0  \t1778  \t9.69738 \t176.206\t165\t349\t13 \t1778  \t61.3008\n",
            "166\t1798  \t3.5115 \t166\t64 \t0  \t1798  \t9.57835 \t180.011\t166\t349\t22 \t1798  \t60.8915\n",
            "167\t1799  \t3.557  \t167\t64 \t0  \t1799  \t9.86553 \t178.531\t167\t375\t15 \t1799  \t61.5289\n",
            "168\t1830  \t3.592  \t168\t64 \t0  \t1830  \t9.86877 \t178.462\t168\t357\t19 \t1830  \t59.7224\n",
            "169\t1831  \t3.4925 \t169\t64 \t0  \t1831  \t9.7552  \t180.979\t169\t348\t10 \t1831  \t59.9313\n",
            "170\t1781  \t3.62   \t170\t64 \t0  \t1781  \t9.7865  \t180.308\t170\t351\t1  \t1781  \t60.3102\n",
            "171\t1813  \t3.495  \t171\t64 \t0  \t1813  \t9.64899 \t180.553\t171\t356\t15 \t1813  \t59.0132\n",
            "172\t1780  \t3.755  \t172\t64 \t0  \t1780  \t10.1212 \t178.802\t172\t361\t24 \t1780  \t59.4736\n",
            "173\t1818  \t3.475  \t173\t64 \t0  \t1818  \t9.6943  \t182.176\t173\t359\t25 \t1818  \t60.1189\n",
            "174\t1789  \t3.632  \t174\t64 \t0  \t1789  \t9.7251  \t183.019\t174\t371\t15 \t1789  \t57.6168\n",
            "175\t1788  \t3.198  \t175\t48 \t0  \t1788  \t9.03038 \t185.028\t175\t371\t20 \t1788  \t57.718 \n",
            "176\t1821  \t3.512  \t176\t64 \t0  \t1821  \t9.6761  \t184.171\t176\t361\t22 \t1821  \t57.7589\n",
            "177\t1796  \t3.755  \t177\t64 \t0  \t1796  \t10.1714 \t182.975\t177\t363\t5  \t1796  \t57.9865\n",
            "178\t1788  \t3.5945 \t178\t64 \t0  \t1788  \t9.73258 \t180.732\t178\t363\t20 \t1788  \t57.8382\n",
            "179\t1780  \t3.296  \t179\t64 \t0  \t1780  \t9.59445 \t180.522\t179\t394\t15 \t1780  \t58.2644\n",
            "180\t1767  \t3.3925 \t180\t64 \t0  \t1767  \t9.56381 \t182.596\t180\t394\t15 \t1767  \t59.9929\n",
            "181\t1799  \t3.393  \t181\t64 \t0  \t1799  \t9.58971 \t182.895\t181\t394\t15 \t1799  \t60.8345\n",
            "182\t1802  \t3.368  \t182\t64 \t0  \t1802  \t9.56193 \t183.773\t182\t398\t15 \t1802  \t61.5308\n",
            "183\t1817  \t3.5935 \t183\t64 \t0  \t1817  \t9.75404 \t185.505\t183\t398\t22 \t1817  \t60.7373\n",
            "184\t1794  \t3.546  \t184\t64 \t0  \t1794  \t9.5418  \t187.095\t184\t419\t1  \t1794  \t61.8999\n",
            "185\t1809  \t3.448  \t185\t64 \t0  \t1809  \t9.42259 \t183.31 \t185\t419\t1  \t1809  \t59.707 \n",
            "186\t1773  \t3.4485 \t186\t64 \t0  \t1773  \t9.76475 \t185.394\t186\t414\t15 \t1773  \t60.1835\n",
            "187\t1772  \t3.3825 \t187\t64 \t0  \t1772  \t9.53966 \t185.246\t187\t338\t15 \t1772  \t59.6838\n",
            "188\t1790  \t3.5385 \t188\t64 \t0  \t1790  \t9.72206 \t185.191\t188\t344\t19 \t1790  \t59.7269\n",
            "189\t1807  \t3.2385 \t189\t64 \t0  \t1807  \t9.31642 \t185.252\t189\t359\t31 \t1807  \t59.7888\n",
            "190\t1824  \t3.303  \t190\t64 \t0  \t1824  \t9.40214 \t186.034\t190\t350\t30 \t1824  \t58.9865\n",
            "191\t1840  \t3.467  \t191\t64 \t0  \t1840  \t9.64525 \t183.87 \t191\t357\t5  \t1840  \t59.3449\n",
            "192\t1812  \t3.285  \t192\t64 \t0  \t1812  \t9.57741 \t184.13 \t192\t357\t7  \t1812  \t60.0129\n",
            "193\t1806  \t3.138  \t193\t64 \t0  \t1806  \t9.13285 \t182.903\t193\t377\t1  \t1806  \t61.9284\n",
            "194\t1831  \t2.972  \t194\t64 \t0  \t1831  \t8.78642 \t182.979\t194\t378\t5  \t1831  \t61.3374\n",
            "195\t1775  \t3.0805 \t195\t64 \t0  \t1775  \t9.16122 \t182.133\t195\t379\t12 \t1775  \t61.5104\n",
            "196\t1784  \t3.562  \t196\t64 \t0  \t1784  \t9.6867  \t183.155\t196\t380\t15 \t1784  \t60.8655\n",
            "197\t1776  \t3.3075 \t197\t64 \t0  \t1776  \t9.28838 \t182.496\t197\t384\t16 \t1776  \t62.2483\n",
            "198\t1781  \t3.322  \t198\t64 \t0  \t1781  \t9.35614 \t183.927\t198\t371\t22 \t1781  \t64.0354\n",
            "199\t1808  \t3.2725 \t199\t64 \t0  \t1808  \t9.2643  \t183.779\t199\t424\t6  \t1808  \t64.598 \n",
            "200\t1822  \t3.1045 \t200\t64 \t0  \t1822  \t9.30073 \t183.844\t200\t424\t15 \t1822  \t64.0991\n"
          ]
        }
      ],
      "source": [
        "population, logbook = algorithms.eaSimple(population,\n",
        "                                                  toolbox,\n",
        "                                                  cxpb=P_CROSSOVER,\n",
        "                                                  mutpb=P_MUTATION,\n",
        "                                                  ngen=MAX_GENERATIONS,\n",
        "                                                  stats=mstats,\n",
        "                                                  halloffame=hof,\n",
        "                                                  verbose=True)"
      ]
    },
    {
      "cell_type": "markdown",
      "metadata": {
        "id": "phiKk1w_xX43"
      },
      "source": [
        "Extract our statistcs. This time our logbook has *chapters* because we have maintained multiple statistics."
      ]
    },
    {
      "cell_type": "code",
      "execution_count": 14,
      "metadata": {
        "colab": {
          "base_uri": "https://localhost:8080/",
          "height": 544
        },
        "id": "409_yJClxX43",
        "outputId": "9672ec5e-5139-4ebf-c2dd-a344cdf49e91"
      },
      "outputs": [
        {
          "output_type": "stream",
          "name": "stdout",
          "text": [
            "-- Best Individual =  xor(xor(in_2, xor(xor(not_(in_5), and_(1, or_(and_(and_(and_(in_1, in_1), xor(1, in_3)), or_(in_4, not_(in_1))), or_(in_4, in_4)))), xor(not_(xor(in_1, in_3)), and_(or_(and_(in_0, or_(in_0, in_4)), not_(and_(not_(in_5), in_5))), in_0)))), and_(0, and_(xor(or_(in_2, in_1), 1), or_(not_(in_3), not_(in_2)))))\n",
            "-- length=56, height=9\n",
            "-- Best Fitness =  0.0\n"
          ]
        },
        {
          "output_type": "display_data",
          "data": {
            "text/plain": [
              "<Figure size 640x480 with 1 Axes>"
            ],
            "image/png": "[encoded data removed]"
          },
          "metadata": {}
        }
      ],
      "source": [
        "maxFitnessValues, meanFitnessValues = logbook.chapters['fitness'].select(\"min\", \"avg\")\n",
        "\n",
        "\n",
        "# print info for best solution found:\n",
        "best = hof.items[0]\n",
        "print(\"-- Best Individual = \", best)\n",
        "print(\"-- length={}, height={}\".format(len(best), best.height))\n",
        "print(\"-- Best Fitness = \", best.fitness.values[0])\n",
        "\n",
        "plt.plot(maxFitnessValues, color='red')\n",
        "plt.plot(meanFitnessValues, color='green')\n",
        "plt.xlabel('Generation')\n",
        "plt.ylabel('Max / Average Fitness')\n",
        "plt.title('Max and Average Fitness over Generations')\n",
        "plt.show()"
      ]
    },
    {
      "cell_type": "markdown",
      "metadata": {
        "id": "zPVYnvCPxX43"
      },
      "source": [
        "Now, this looks way more interesting than the Symbolic Regression graph as GP is really being made to work hard here!"
      ]
    },
    {
      "cell_type": "code",
      "execution_count": 14,
      "metadata": {
        "id": "CJK7twkuxX43"
      },
      "outputs": [],
      "source": []
    }
  ],
  "metadata": {
    "kernelspec": {
      "display_name": "Python 3",
      "language": "python",
      "name": "python3"
    },
    "language_info": {
      "codemirror_mode": {
        "name": "ipython",
        "version": 3
      },
      "file_extension": ".py",
      "mimetype": "text/x-python",
      "name": "python",
      "nbconvert_exporter": "python",
      "pygments_lexer": "ipython3",
      "version": "3.8.3"
    },
    "colab": {
      "provenance": [],
      "include_colab_link": true
    }
  },
  "nbformat": 4,
  "nbformat_minor": 0
}