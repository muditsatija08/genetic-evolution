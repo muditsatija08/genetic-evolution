{
  "cells": [
    {
      "cell_type": "markdown",
      "metadata": {
        "id": "view-in-github",
        "colab_type": "text"
      },
      "source": [
        "<a href=\"https://colab.research.google.com/github/muditsatija08/genetic-evolution/blob/main/E_Question3.ipynb\" target=\"_parent\"><img src=\"https://colab.research.google.com/assets/colab-badge.svg\" alt=\"Open In Colab\"/></a>"
      ]
    },
    {
      "cell_type": "code",
      "execution_count": null,
      "metadata": {
        "colab": {
          "base_uri": "https://localhost:8080/"
        },
        "id": "ffrk3U-JB9T2",
        "outputId": "d1ecbffd-101a-4664-ec9e-41343426760a"
      },
      "outputs": [
        {
          "output_type": "stream",
          "name": "stdout",
          "text": [
            "Requirement already satisfied: deap in /usr/local/lib/python3.10/dist-packages (1.4.1)\n",
            "Requirement already satisfied: numpy in /usr/local/lib/python3.10/dist-packages (from deap) (1.23.5)\n"
          ]
        }
      ],
      "source": [
        "# Installing Deap\n",
        "!pip install deap"
      ]
    },
    {
      "cell_type": "code",
      "execution_count": null,
      "metadata": {
        "colab": {
          "base_uri": "https://localhost:8080/",
          "height": 17
        },
        "id": "Y8ayDKymVNqb",
        "outputId": "dca3602c-8530-45a0-bb08-44ff87f866b2"
      },
      "outputs": [
        {
          "output_type": "display_data",
          "data": {
            "text/plain": [
              "<IPython.core.display.HTML object>"
            ],
            "text/html": [
              "<style>.container { width:100% !important; }</style>"
            ]
          },
          "metadata": {}
        }
      ],
      "source": [
        "from IPython.core.display import display, HTML\n",
        "display(HTML(\"<style>.container { width:100% !important; }</style>\"))"
      ]
    },
    {
      "cell_type": "code",
      "execution_count": null,
      "metadata": {
        "id": "NpiMt7dHVPbH"
      },
      "outputs": [],
      "source": [
        "# importing libraries\n",
        "import operator\n",
        "import math\n",
        "import random\n",
        "\n",
        "import numpy\n",
        "\n",
        "from deap import algorithms\n",
        "from deap import base\n",
        "from deap import creator\n",
        "from deap import tools\n",
        "from deap import gp\n",
        "\n",
        "\n",
        "import matplotlib.pyplot as plt\n",
        "\n",
        "import itertools\n",
        "import networkx as nx"
      ]
    },
    {
      "cell_type": "code",
      "execution_count": null,
      "metadata": {
        "id": "eqoWSgEaVXCV"
      },
      "outputs": [],
      "source": [
        "# Genetic Programming constants:\n",
        "POPULATION_SIZE = 1000\n",
        "P_CROSSOVER = 0.9\n",
        "P_MUTATION = 0.01\n",
        "MAX_GENERATIONS = 100\n",
        "HALL_OF_FAME_SIZE = 10"
      ]
    },
    {
      "cell_type": "code",
      "execution_count": null,
      "metadata": {
        "id": "Io3eU083Vahs"
      },
      "outputs": [],
      "source": [
        "#Initialization\n",
        "RANDOM_SEED = 412\n",
        "random.seed(RANDOM_SEED)"
      ]
    },
    {
      "cell_type": "code",
      "execution_count": null,
      "metadata": {
        "id": "-ib8SBE5Vcah"
      },
      "outputs": [],
      "source": [
        "MIN_TREE_HEIGHT = 3\n",
        "MAX_TREE_HEIGHT = 5\n",
        "LIMIT_TREE_HEIGHT = 5\n",
        "MUT_MIN_TREE_HEIGHT = 0\n",
        "MUT_MAX_TREE_HEIGHT = 2"
      ]
    },
    {
      "cell_type": "code",
      "execution_count": null,
      "metadata": {
        "id": "KqtTvjKHVisH"
      },
      "outputs": [],
      "source": [
        "NUM_INPUTS = 3\n",
        "NUM_COMBINATIONS = 2 ** NUM_INPUTS"
      ]
    },
    {
      "cell_type": "code",
      "source": [
        "# def nand(x,y):\n",
        "#   return not(x and y)\n",
        "# def nor(x,y):\n",
        "#   return not(x or y)\n",
        "# def xor(x,y):\n",
        "#   return (x ^ y)\n"
      ],
      "metadata": {
        "id": "Qi07CiSrwz3p"
      },
      "execution_count": null,
      "outputs": []
    },
    {
      "cell_type": "code",
      "source": [
        "# calculate the truth table of even parity check:\n",
        "parityIn = list(itertools.product([0, 1], repeat=NUM_INPUTS))\n",
        "parityOut = []\n",
        "for row in parityIn:\n",
        "    parityOut.append(sum(row) % 2)\n",
        "\n",
        "# calculate the difference between the results of the\n",
        "# generated function and the expected parity results:\n",
        "def parityError(individual):\n",
        "    func = toolbox.compile(expr=individual)\n",
        "    return sum(func(*pIn) != pOut for pIn, pOut in zip(parityIn, parityOut))\n",
        "\n",
        "# fitness measure:\n",
        "def getCost(individual):\n",
        "    return parityError(individual),  # return a tuple"
      ],
      "metadata": {
        "id": "5-d2htmYI_d2"
      },
      "execution_count": null,
      "outputs": []
    },
    {
      "cell_type": "markdown",
      "source": [
        "**Setup 1:** Calculating the GP performance for fewer number of primituves with just the three basic logic gates."
      ],
      "metadata": {
        "id": "XUO_D9qN_-Z1"
      }
    },
    {
      "cell_type": "code",
      "execution_count": null,
      "metadata": {
        "id": "V-_603sIVm6a"
      },
      "outputs": [],
      "source": [
        "# create the primitive set:\n",
        "primitiveSet = gp.PrimitiveSet(\"main\", NUM_INPUTS, \"in_\")\n",
        "primitiveSet.addPrimitive(operator.and_, 2)\n",
        "primitiveSet.addPrimitive(operator.or_, 2)\n",
        "primitiveSet.addPrimitive(operator.not_, 1)\n",
        "\n",
        "\n",
        "# add terminal values:\n",
        "primitiveSet.addTerminal(1)\n",
        "primitiveSet.addTerminal(0)"
      ]
    },
    {
      "cell_type": "code",
      "execution_count": null,
      "metadata": {
        "id": "7ekGordYVpC6"
      },
      "outputs": [],
      "source": [
        "toolbox = base.Toolbox()\n",
        "\n",
        "# define a single objective, minimizing fitness strategy:\n",
        "creator.create(\"FitnessMin\", base.Fitness, weights=(-1.0,))\n",
        "\n",
        "# create the Individual class based on the primitive tree:\n",
        "creator.create(\"Individual\", gp.PrimitiveTree, fitness=creator.FitnessMin)\n",
        "\n",
        "# create a helper function for creating random trees using the primitive set:\n",
        "toolbox.register(\"expr\", gp.genFull, pset=primitiveSet, min_=MIN_TREE_HEIGHT, max_=MAX_TREE_HEIGHT)\n",
        "\n",
        "# create the individual operator to fill up an Individual instance:\n",
        "toolbox.register(\"individualCreator\", tools.initIterate, creator.Individual, toolbox.expr)\n",
        "\n",
        "# create the population operator to generate a list of individuals:\n",
        "toolbox.register(\"populationCreator\", tools.initRepeat, list, toolbox.individualCreator)\n",
        "\n",
        "# create an operator to compile the primitive tree into python code:\n",
        "toolbox.register(\"compile\", gp.compile, pset=primitiveSet)\n",
        "\n",
        "toolbox.register(\"evaluate\", getCost)\n",
        "\n",
        "# genetic operators:\n",
        "toolbox.register(\"select\", tools.selTournament, tournsize=7)\n",
        "toolbox.register(\"mate\", gp.cxOnePoint)\n",
        "toolbox.register(\"expr_mut\", gp.genGrow, min_=MUT_MIN_TREE_HEIGHT, max_=MUT_MAX_TREE_HEIGHT)\n",
        "toolbox.register(\"mutate\", gp.mutUniform, expr=toolbox.expr_mut, pset=primitiveSet)\n",
        "\n",
        "# bloat control:\n",
        "toolbox.decorate(\"mate\", gp.staticLimit(key=operator.attrgetter(\"height\"), max_value=LIMIT_TREE_HEIGHT))\n",
        "toolbox.decorate(\"mutate\", gp.staticLimit(key=operator.attrgetter(\"height\"), max_value=LIMIT_TREE_HEIGHT))"
      ]
    },
    {
      "cell_type": "code",
      "execution_count": null,
      "metadata": {
        "id": "op__RrdNVyCG"
      },
      "outputs": [],
      "source": [
        "population= toolbox.populationCreator(n=POPULATION_SIZE)\n",
        "# define the hall-of-fame object:\n",
        "hof = tools.HallOfFame(HALL_OF_FAME_SIZE)\n"
      ]
    },
    {
      "cell_type": "code",
      "execution_count": null,
      "metadata": {
        "id": "sNvNEc0OWHLa"
      },
      "outputs": [],
      "source": [
        "stats_fit = tools.Statistics(lambda ind: ind.fitness.values)\n",
        "stats_size = tools.Statistics(len)\n",
        "mstats = tools.MultiStatistics(fitness=stats_fit, size=stats_size)\n",
        "mstats.register(\"avg\", numpy.mean)\n",
        "mstats.register(\"std\", numpy.std)\n",
        "mstats.register(\"min\", numpy.min)\n",
        "mstats.register(\"max\", numpy.max)"
      ]
    },
    {
      "cell_type": "code",
      "execution_count": null,
      "metadata": {
        "colab": {
          "base_uri": "https://localhost:8080/"
        },
        "id": "hyXsg3yTWJR2",
        "outputId": "25983681-c46d-485c-8adf-1314917dd368"
      },
      "outputs": [
        {
          "output_type": "stream",
          "name": "stdout",
          "text": [
            "   \t      \t                    fitness                     \t                      size                     \n",
            "   \t      \t------------------------------------------------\t-----------------------------------------------\n",
            "gen\tnevals\tavg  \tgen\tmax\tmin\tnevals\tstd     \tavg  \tgen\tmax\tmin\tnevals\tstd    \n",
            "0  \t1000  \t4.003\t0  \t5  \t2  \t1000  \t0.327095\t19.66\t0  \t56 \t4  \t1000  \t11.4295\n",
            "1  \t902   \t3.834\t1  \t5  \t2  \t902   \t0.431792\t18.665\t1  \t56 \t1  \t902   \t11.109 \n",
            "2  \t892   \t3.522\t2  \t5  \t2  \t892   \t0.561708\t20.49 \t2  \t50 \t1  \t892   \t10.3771\n",
            "3  \t910   \t3.319\t3  \t6  \t2  \t910   \t0.60765 \t22.616\t3  \t48 \t1  \t910   \t9.98982\n",
            "4  \t869   \t3.135\t4  \t6  \t2  \t869   \t0.717478\t22.564\t4  \t47 \t1  \t869   \t8.72467\n",
            "5  \t875   \t2.856\t5  \t6  \t2  \t875   \t0.808247\t21.814\t5  \t47 \t2  \t875   \t6.5998 \n",
            "6  \t935   \t2.683\t6  \t6  \t2  \t935   \t0.797816\t21.029\t6  \t40 \t2  \t935   \t5.49692\n",
            "7  \t915   \t2.695\t7  \t6  \t2  \t915   \t0.846153\t20.825\t7  \t43 \t1  \t915   \t5.62427\n",
            "8  \t907   \t2.648\t8  \t6  \t2  \t907   \t0.801309\t20.727\t8  \t43 \t2  \t907   \t5.66043\n",
            "9  \t886   \t2.671\t9  \t6  \t2  \t886   \t0.838307\t20.958\t9  \t38 \t1  \t886   \t5.69124\n",
            "10 \t905   \t2.695\t10 \t6  \t2  \t905   \t0.870618\t20.901\t10 \t40 \t2  \t905   \t5.7143 \n",
            "11 \t904   \t2.637\t11 \t6  \t2  \t904   \t0.831403\t21.012\t11 \t40 \t1  \t904   \t5.75342\n",
            "12 \t894   \t2.665\t12 \t6  \t2  \t894   \t0.841888\t20.91 \t12 \t38 \t1  \t894   \t5.53009\n",
            "13 \t878   \t2.61 \t13 \t6  \t2  \t878   \t0.802434\t21.063\t13 \t38 \t2  \t878   \t5.80956\n",
            "14 \t899   \t2.625\t14 \t6  \t1  \t899   \t0.793962\t21.421\t14 \t39 \t2  \t899   \t5.81651\n",
            "15 \t898   \t2.612\t15 \t6  \t1  \t898   \t0.849386\t21.584\t15 \t41 \t2  \t898   \t6.29515\n",
            "16 \t909   \t2.559\t16 \t6  \t1  \t909   \t0.832177\t22.575\t16 \t42 \t2  \t909   \t6.70122\n",
            "17 \t910   \t2.418\t17 \t6  \t1  \t910   \t0.892903\t25.497\t17 \t43 \t2  \t910   \t8.24209\n",
            "18 \t899   \t2.03 \t18 \t6  \t1  \t899   \t0.914932\t31.165\t18 \t45 \t2  \t899   \t8.81021\n",
            "19 \t908   \t1.644\t19 \t5  \t1  \t908   \t0.818086\t36.132\t19 \t45 \t8  \t908   \t5.21043\n",
            "20 \t891   \t1.531\t20 \t5  \t1  \t891   \t0.745009\t36.9  \t20 \t45 \t18 \t891   \t3.84083\n",
            "21 \t914   \t1.581\t21 \t5  \t1  \t914   \t0.805878\t36.42 \t21 \t45 \t12 \t914   \t4.40518\n",
            "22 \t913   \t1.562\t22 \t5  \t1  \t913   \t0.793824\t36.381\t22 \t46 \t1  \t913   \t4.32895\n",
            "23 \t904   \t1.6  \t23 \t5  \t1  \t904   \t0.808703\t36.307\t23 \t47 \t14 \t904   \t4.24862\n",
            "24 \t914   \t1.599\t24 \t4  \t1  \t914   \t0.787527\t36.258\t24 \t46 \t15 \t914   \t4.32012\n",
            "25 \t905   \t1.586\t25 \t5  \t1  \t905   \t0.772401\t36.259\t25 \t45 \t17 \t905   \t4.20855\n",
            "26 \t905   \t1.536\t26 \t5  \t1  \t905   \t0.75545 \t36.089\t26 \t45 \t14 \t905   \t4.58422\n",
            "27 \t882   \t1.576\t27 \t5  \t1  \t882   \t0.818672\t36.084\t27 \t45 \t1  \t882   \t4.43226\n",
            "28 \t882   \t1.57 \t28 \t5  \t1  \t882   \t0.795676\t35.781\t28 \t45 \t14 \t882   \t4.6683 \n",
            "29 \t926   \t1.602\t29 \t5  \t1  \t926   \t0.838806\t35.724\t29 \t45 \t14 \t926   \t4.64864\n",
            "30 \t921   \t1.606\t30 \t5  \t1  \t921   \t0.785343\t35.737\t30 \t45 \t1  \t921   \t4.74888\n",
            "31 \t886   \t1.565\t31 \t5  \t1  \t886   \t0.775742\t35.868\t31 \t47 \t16 \t886   \t4.67232\n",
            "32 \t911   \t1.568\t32 \t5  \t1  \t911   \t0.766405\t35.799\t32 \t46 \t15 \t911   \t4.59659\n",
            "33 \t908   \t1.63 \t33 \t5  \t1  \t908   \t0.827708\t35.702\t33 \t46 \t17 \t908   \t4.93023\n",
            "34 \t896   \t1.62 \t34 \t5  \t1  \t896   \t0.84947 \t35.728\t34 \t45 \t1  \t896   \t5.06695\n",
            "35 \t878   \t1.594\t35 \t5  \t1  \t878   \t0.78177 \t35.821\t35 \t46 \t10 \t878   \t4.91436\n",
            "36 \t898   \t1.545\t36 \t5  \t1  \t898   \t0.784841\t35.648\t36 \t45 \t1  \t898   \t5.10765\n",
            "37 \t895   \t1.556\t37 \t5  \t1  \t895   \t0.768677\t35.693\t37 \t45 \t17 \t895   \t4.82211\n",
            "38 \t894   \t1.6  \t38 \t5  \t1  \t894   \t0.816088\t35.645\t38 \t45 \t1  \t894   \t5.05737\n",
            "39 \t897   \t1.588\t39 \t5  \t1  \t897   \t0.795145\t35.841\t39 \t45 \t15 \t897   \t4.68057\n",
            "40 \t906   \t1.646\t40 \t5  \t1  \t906   \t0.825036\t35.419\t40 \t45 \t15 \t906   \t5.13492\n",
            "41 \t916   \t1.6  \t41 \t5  \t1  \t916   \t0.808703\t35.535\t41 \t45 \t1  \t916   \t4.89783\n",
            "42 \t902   \t1.585\t42 \t5  \t1  \t902   \t0.810417\t35.269\t42 \t46 \t1  \t902   \t5.02719\n",
            "43 \t905   \t1.568\t43 \t5  \t1  \t905   \t0.781905\t35.076\t43 \t45 \t11 \t905   \t4.72083\n",
            "44 \t897   \t1.569\t44 \t5  \t1  \t897   \t0.767619\t35.113\t44 \t45 \t2  \t897   \t4.67849\n",
            "45 \t908   \t1.596\t45 \t5  \t1  \t908   \t0.812886\t34.904\t45 \t46 \t14 \t908   \t5.07807\n",
            "46 \t910   \t1.593\t46 \t5  \t1  \t910   \t0.792055\t35.215\t46 \t45 \t15 \t910   \t4.86629\n",
            "47 \t902   \t1.631\t47 \t5  \t1  \t902   \t0.82513 \t34.821\t47 \t45 \t12 \t902   \t5.01188\n",
            "48 \t893   \t1.606\t48 \t5  \t1  \t893   \t0.823871\t34.942\t48 \t46 \t13 \t893   \t4.95829\n",
            "49 \t900   \t1.584\t49 \t5  \t1  \t900   \t0.80805 \t34.77 \t49 \t45 \t5  \t900   \t4.774  \n",
            "50 \t863   \t1.586\t50 \t5  \t1  \t863   \t0.802872\t34.405\t50 \t46 \t14 \t863   \t4.89704\n",
            "51 \t905   \t1.62 \t51 \t5  \t1  \t905   \t0.814616\t34.388\t51 \t47 \t12 \t905   \t4.90382\n",
            "52 \t901   \t1.575\t52 \t5  \t1  \t901   \t0.800234\t34.644\t52 \t46 \t14 \t901   \t5.00952\n",
            "53 \t907   \t1.641\t53 \t5  \t1  \t907   \t0.862623\t34.654\t53 \t48 \t14 \t907   \t5.04304\n",
            "54 \t898   \t1.559\t54 \t5  \t1  \t898   \t0.790265\t34.634\t54 \t46 \t13 \t898   \t4.90551\n",
            "55 \t923   \t1.61 \t55 \t5  \t1  \t923   \t0.801187\t34.45 \t55 \t46 \t14 \t923   \t5.14893\n",
            "56 \t890   \t1.638\t56 \t5  \t1  \t890   \t0.870032\t34.406\t56 \t46 \t14 \t890   \t5.24435\n",
            "57 \t902   \t1.633\t57 \t4  \t1  \t902   \t0.819946\t34.206\t57 \t48 \t14 \t902   \t5.34318\n",
            "58 \t906   \t1.604\t58 \t5  \t1  \t906   \t0.826549\t34.141\t58 \t48 \t10 \t906   \t5.35921\n",
            "59 \t906   \t1.599\t59 \t5  \t1  \t906   \t0.774725\t34.372\t59 \t48 \t4  \t906   \t5.2482 \n",
            "60 \t908   \t1.612\t60 \t5  \t1  \t908   \t0.827923\t34.307\t60 \t48 \t13 \t908   \t5.39729\n",
            "61 \t914   \t1.585\t61 \t5  \t1  \t914   \t0.78535 \t34.452\t61 \t48 \t14 \t914   \t5.27918\n",
            "62 \t886   \t1.579\t62 \t5  \t1  \t886   \t0.797345\t34.427\t62 \t48 \t10 \t886   \t5.59631\n",
            "63 \t900   \t1.599\t63 \t5  \t1  \t900   \t0.807588\t34.401\t63 \t48 \t1  \t900   \t5.71123\n",
            "64 \t898   \t1.616\t64 \t5  \t1  \t898   \t0.836985\t34.528\t64 \t48 \t14 \t898   \t5.29029\n",
            "65 \t907   \t1.604\t65 \t5  \t1  \t907   \t0.838561\t34.204\t65 \t48 \t12 \t907   \t5.83544\n",
            "66 \t906   \t1.562\t66 \t5  \t1  \t906   \t0.768216\t34.778\t66 \t48 \t13 \t906   \t5.6314 \n",
            "67 \t908   \t1.636\t67 \t5  \t1  \t908   \t0.830364\t34.547\t67 \t48 \t1  \t908   \t5.95095\n",
            "68 \t907   \t1.575\t68 \t5  \t1  \t907   \t0.801483\t34.38 \t68 \t48 \t1  \t907   \t5.94471\n",
            "69 \t905   \t1.619\t69 \t5  \t1  \t905   \t0.84489 \t34.525\t69 \t48 \t15 \t905   \t5.40142\n",
            "70 \t890   \t1.641\t70 \t5  \t1  \t890   \t0.825905\t34.584\t70 \t49 \t10 \t890   \t5.79025\n",
            "71 \t903   \t1.631\t71 \t5  \t1  \t903   \t0.837161\t34.626\t71 \t49 \t1  \t903   \t5.94593\n",
            "72 \t920   \t1.631\t72 \t5  \t1  \t920   \t0.822702\t34.593\t72 \t49 \t11 \t920   \t5.63199\n",
            "73 \t873   \t1.626\t73 \t5  \t1  \t873   \t0.845059\t34.132\t73 \t48 \t1  \t873   \t5.75018\n",
            "74 \t890   \t1.609\t74 \t5  \t1  \t890   \t0.830734\t34.44 \t74 \t46 \t15 \t890   \t5.62249\n",
            "75 \t908   \t1.595\t75 \t5  \t1  \t908   \t0.795597\t34.253\t75 \t46 \t15 \t908   \t5.32419\n",
            "76 \t920   \t1.594\t76 \t5  \t1  \t920   \t0.799477\t34.25 \t76 \t48 \t12 \t920   \t5.55819\n",
            "77 \t898   \t1.609\t77 \t5  \t1  \t898   \t0.810012\t34.256\t77 \t45 \t14 \t898   \t5.45   \n",
            "78 \t870   \t1.615\t78 \t5  \t1  \t870   \t0.837123\t34.48 \t78 \t46 \t13 \t870   \t5.43319\n",
            "79 \t908   \t1.598\t79 \t5  \t1  \t908   \t0.826073\t34.224\t79 \t46 \t1  \t908   \t5.56954\n",
            "80 \t911   \t1.573\t80 \t4  \t1  \t911   \t0.764638\t34.649\t80 \t46 \t6  \t911   \t5.18592\n",
            "81 \t892   \t1.599\t81 \t5  \t1  \t892   \t0.797621\t34.475\t81 \t46 \t1  \t892   \t5.33323\n",
            "82 \t893   \t1.631\t82 \t5  \t1  \t893   \t0.849022\t34.809\t82 \t46 \t1  \t893   \t5.42112\n",
            "83 \t931   \t1.669\t83 \t5  \t1  \t931   \t0.857577\t34.677\t83 \t46 \t12 \t931   \t5.59202\n",
            "84 \t918   \t1.57 \t84 \t5  \t1  \t918   \t0.81185 \t35.352\t84 \t46 \t14 \t918   \t5.09883\n",
            "85 \t906   \t1.562\t85 \t5  \t1  \t906   \t0.818631\t35.201\t85 \t46 \t13 \t906   \t5.24467\n",
            "86 \t915   \t1.63 \t86 \t5  \t1  \t915   \t0.871263\t35.111\t86 \t46 \t14 \t915   \t5.51495\n",
            "87 \t886   \t1.604\t87 \t5  \t1  \t886   \t0.822912\t35.055\t87 \t48 \t12 \t886   \t5.27977\n",
            "88 \t875   \t1.603\t88 \t5  \t1  \t875   \t0.830296\t34.825\t88 \t46 \t8  \t875   \t5.39429\n",
            "89 \t897   \t1.64 \t89 \t5  \t1  \t897   \t0.863944\t35.177\t89 \t46 \t13 \t897   \t5.33663\n",
            "90 \t905   \t1.585\t90 \t5  \t1  \t905   \t0.773806\t35.307\t90 \t47 \t13 \t905   \t4.90456\n",
            "91 \t904   \t1.593\t91 \t5  \t1  \t904   \t0.813235\t35.31 \t91 \t46 \t13 \t904   \t5.01257\n",
            "92 \t898   \t1.589\t92 \t5  \t1  \t898   \t0.825881\t35.145\t92 \t46 \t11 \t898   \t5.0949 \n",
            "93 \t909   \t1.632\t93 \t5  \t1  \t909   \t0.876685\t34.631\t93 \t45 \t1  \t909   \t5.49844\n",
            "94 \t926   \t1.612\t94 \t5  \t1  \t926   \t0.823077\t34.693\t94 \t45 \t10 \t926   \t5.32773\n",
            "95 \t890   \t1.603\t95 \t5  \t0  \t890   \t0.827883\t34.721\t95 \t45 \t15 \t890   \t4.93611\n",
            "96 \t900   \t1.634\t96 \t5  \t0  \t900   \t0.866051\t34.428\t96 \t45 \t10 \t900   \t5.24393\n",
            "97 \t906   \t1.61 \t97 \t5  \t0  \t906   \t0.855512\t34.557\t97 \t48 \t10 \t906   \t5.05636\n",
            "98 \t902   \t1.534\t98 \t5  \t0  \t902   \t0.835969\t34.733\t98 \t48 \t17 \t902   \t4.94406\n",
            "99 \t897   \t1.385\t99 \t5  \t0  \t897   \t0.934224\t34.68 \t99 \t48 \t1  \t897   \t4.88668\n",
            "100\t926   \t1.111\t100\t5  \t0  \t926   \t0.999339\t34.278\t100\t45 \t15 \t926   \t4.66891\n"
          ]
        }
      ],
      "source": [
        "population, logbook = algorithms.eaSimple(population,\n",
        "                                                  toolbox,\n",
        "                                                  cxpb=P_CROSSOVER,\n",
        "                                                  mutpb=P_MUTATION,\n",
        "                                                  ngen=MAX_GENERATIONS,\n",
        "                                                  stats=mstats,\n",
        "                                                  halloffame=hof,\n",
        "                                                  verbose=True)"
      ]
    },
    {
      "cell_type": "code",
      "source": [
        "#Setup 1\n",
        "maxFitnessValues, meanFitnessValues = logbook.chapters['fitness'].select(\"min\", \"avg\")\n",
        "# print info for best solution found:\n",
        "best = hof.items[0]\n",
        "print('Operators used for setup1: and, or, not')\n",
        "print(\"-- Best Individual = \", best)\n",
        "print(\"-- length={}, height={}\".format(len(best), best.height))\n",
        "print(\"-- Best Fitness = \", best.fitness.values[0])\n",
        "\n",
        "plt.plot(maxFitnessValues, color='red')\n",
        "plt.plot(meanFitnessValues, color='green')\n",
        "plt.xlabel('Generation')\n",
        "plt.ylabel('Max / Average Fitness')\n",
        "plt.title('Max and Average Fitness over Generations')\n",
        "plt.show()"
      ],
      "metadata": {
        "colab": {
          "base_uri": "https://localhost:8080/",
          "height": 565
        },
        "id": "AKOWS3H84ZLr",
        "outputId": "f37a67d5-f183-45fb-b6fc-26e75fc47b51"
      },
      "execution_count": null,
      "outputs": [
        {
          "output_type": "stream",
          "name": "stdout",
          "text": [
            "Operators used for setup1: and, or, not\n",
            "-- Best Individual =  and_(or_(and_(not_(not_(in_1)), not_(in_2)), and_(or_(in_0, not_(in_1)), or_(in_2, or_(in_2, in_0)))), and_(or_(or_(not_(in_0), not_(in_1)), in_2), or_(not_(in_2), or_(not_(in_0), and_(in_1, in_2)))))\n",
            "-- length=35, height=5\n",
            "-- Best Fitness =  0.0\n"
          ]
        },
        {
          "output_type": "display_data",
          "data": {
            "text/plain": [
              "<Figure size 640x480 with 1 Axes>"
            ],
            "image/png": "[encoded data removed]"
          },
          "metadata": {}
        }
      ]
    },
    {
      "cell_type": "markdown",
      "source": [
        "**Setup 2:** Calculating the GP performance with maximum number of primitives which includes the universal gates."
      ],
      "metadata": {
        "id": "myLhgr6HEpfM"
      }
    },
    {
      "cell_type": "code",
      "source": [
        "# # calculate the truth table of even parity check:\n",
        "# parityIn_S2 = list(itertools.product([0, 1], repeat=NUM_INPUTS))\n",
        "# parityOut_S2 = []\n",
        "# for row in parityIn_S2:\n",
        "#     parityOut_S2.append(sum(row) % 2)\n",
        "\n",
        "# # calculate the difference between the results of the\n",
        "# # generated function and the expected parity results:\n",
        "# def parityError_S2(individual):\n",
        "#     func = toolbox.compile(expr=individual)\n",
        "#     return sum(func(*pIn) != pOut for pIn, pOut in zip(parityIn_S2, parityOut_S2))\n",
        "\n",
        "# # fitness measure:\n",
        "# def getCost_S2(individual):\n",
        "#     # nodes, edges, labels = gp.graph(individual)\n",
        "#     return parityError_S2(individual),  # return a tuple"
      ],
      "metadata": {
        "id": "1zmZjdYGe7bO"
      },
      "execution_count": null,
      "outputs": []
    },
    {
      "cell_type": "code",
      "source": [
        "# create the primitive set:\n",
        "primitiveSet = gp.PrimitiveSet(\"main\", NUM_INPUTS, \"in_\")\n",
        "primitiveSet.addPrimitive(operator.and_, 2)\n",
        "primitiveSet.addPrimitive(operator.or_, 2)\n",
        "primitiveSet.addPrimitive(operator.not_, 1)\n",
        "primitiveSet.addPrimitive(nor, 2)\n",
        "primitiveSet.addPrimitive(nand, 2)\n",
        "\n",
        "\n",
        "# add terminal values:\n",
        "primitiveSet.addTerminal(1)\n",
        "primitiveSet.addTerminal(0)"
      ],
      "metadata": {
        "id": "O3s7RkXYEohK"
      },
      "execution_count": null,
      "outputs": []
    },
    {
      "cell_type": "code",
      "execution_count": null,
      "metadata": {
        "id": "iiDgEsf8WPue"
      },
      "outputs": [],
      "source": [
        "toolbox = base.Toolbox()\n",
        "\n",
        "# define a single objective, minimizing fitness strategy:\n",
        "creator.create(\"FitnessMin\", base.Fitness, weights=(-1.0,))\n",
        "\n",
        "# create the Individual class based on the primitive tree:\n",
        "creator.create(\"Individual\", gp.PrimitiveTree, fitness=creator.FitnessMin)\n",
        "\n",
        "# create a helper function for creating random trees using the primitive set:\n",
        "toolbox.register(\"expr\", gp.genFull, pset=primitiveSet, min_=MIN_TREE_HEIGHT, max_=MAX_TREE_HEIGHT)\n",
        "\n",
        "# create the individual operator to fill up an Individual instance:\n",
        "toolbox.register(\"individualCreator\", tools.initIterate, creator.Individual, toolbox.expr)\n",
        "\n",
        "# create the population operator to generate a list of individuals:\n",
        "toolbox.register(\"populationCreator\", tools.initRepeat, list, toolbox.individualCreator)\n",
        "\n",
        "# create an operator to compile the primitive tree into python code:\n",
        "toolbox.register(\"compile\", gp.compile, pset=primitiveSet)\n",
        "\n",
        "toolbox.register(\"evaluate\", getCost_S2)\n",
        "\n",
        "# genetic operators:\n",
        "toolbox.register(\"select\", tools.selTournament, tournsize=7)\n",
        "toolbox.register(\"mate\", gp.cxOnePoint)\n",
        "toolbox.register(\"expr_mut\", gp.genGrow, min_=MUT_MIN_TREE_HEIGHT, max_=MUT_MAX_TREE_HEIGHT)\n",
        "toolbox.register(\"mutate\", gp.mutUniform, expr=toolbox.expr_mut, pset=primitiveSet)\n",
        "\n",
        "# bloat control:\n",
        "toolbox.decorate(\"mate\", gp.staticLimit(key=operator.attrgetter(\"height\"), max_value=LIMIT_TREE_HEIGHT))\n",
        "toolbox.decorate(\"mutate\", gp.staticLimit(key=operator.attrgetter(\"height\"), max_value=LIMIT_TREE_HEIGHT))"
      ]
    },
    {
      "cell_type": "code",
      "source": [
        "population = toolbox.populationCreator(n=POPULATION_SIZE)\n",
        "# define the hall-of-fame object:\n",
        "hof = tools.HallOfFame(HALL_OF_FAME_SIZE)"
      ],
      "metadata": {
        "id": "qAPo_PvaFFJZ"
      },
      "execution_count": null,
      "outputs": []
    },
    {
      "cell_type": "code",
      "source": [
        "stats_fit = tools.Statistics(lambda ind: ind.fitness.values)\n",
        "stats_size = tools.Statistics(len)\n",
        "mstats = tools.MultiStatistics(fitness=stats_fit, size=stats_size)\n",
        "mstats.register(\"avg\", numpy.mean)\n",
        "mstats.register(\"std\", numpy.std)\n",
        "mstats.register(\"min\", numpy.min)\n",
        "mstats.register(\"max\", numpy.max)"
      ],
      "metadata": {
        "id": "NRp-rLpwFFsA"
      },
      "execution_count": null,
      "outputs": []
    },
    {
      "cell_type": "code",
      "source": [
        "population, logbook = algorithms.eaSimple(population,\n",
        "                                                  toolbox,\n",
        "                                                  cxpb=P_CROSSOVER,\n",
        "                                                  mutpb=P_MUTATION,\n",
        "                                                  ngen=MAX_GENERATIONS,\n",
        "                                                  stats=mstats,\n",
        "                                                  halloffame=hof,\n",
        "                                                  verbose=True)"
      ],
      "metadata": {
        "colab": {
          "base_uri": "https://localhost:8080/"
        },
        "id": "6WrvIAbIFKun",
        "outputId": "f9a405c8-c6a7-4b40-c628-4924aa215252"
      },
      "execution_count": null,
      "outputs": [
        {
          "output_type": "stream",
          "name": "stdout",
          "text": [
            "   \t      \t                    fitness                     \t                      size                     \n",
            "   \t      \t------------------------------------------------\t-----------------------------------------------\n",
            "gen\tnevals\tavg  \tgen\tmax\tmin\tnevals\tstd     \tavg   \tgen\tmax\tmin\tnevals\tstd    \n",
            "0  \t1000  \t4.009\t0  \t5  \t2  \t1000  \t0.361827\t25.434\t0  \t62 \t4  \t1000  \t14.5158\n",
            "1  \t890   \t3.775\t1  \t5  \t2  \t890   \t0.506335\t24.287\t1  \t61 \t2  \t890   \t14.0481\n",
            "2  \t886   \t3.372\t2  \t5  \t2  \t886   \t0.624192\t27.831\t2  \t60 \t2  \t886   \t14.0787\n",
            "3  \t914   \t3.055\t3  \t5  \t2  \t914   \t0.681157\t30.868\t3  \t60 \t4  \t914   \t12.4935\n",
            "4  \t903   \t2.703\t4  \t6  \t2  \t903   \t0.759468\t32.928\t4  \t60 \t2  \t903   \t11.0533\n",
            "5  \t926   \t2.534\t5  \t6  \t1  \t926   \t0.779002\t35.021\t5  \t56 \t5  \t926   \t10.3739\n",
            "6  \t892   \t2.47 \t6  \t6  \t1  \t892   \t0.719097\t35.408\t6  \t56 \t9  \t892   \t9.98787\n",
            "7  \t895   \t2.492\t7  \t6  \t1  \t895   \t0.734803\t35.511\t7  \t56 \t8  \t895   \t10.0375\n",
            "8  \t917   \t2.48 \t8  \t6  \t1  \t917   \t0.74135 \t35.23 \t8  \t56 \t1  \t917   \t10.014 \n",
            "9  \t908   \t2.423\t9  \t6  \t1  \t908   \t0.789982\t34.472\t9  \t56 \t9  \t908   \t9.61536\n",
            "10 \t924   \t2.289\t10 \t5  \t1  \t924   \t0.835152\t33.058\t10 \t56 \t1  \t924   \t8.76394\n",
            "11 \t910   \t2.072\t11 \t6  \t1  \t910   \t0.920226\t30.453\t11 \t51 \t10 \t910   \t6.53833\n",
            "12 \t881   \t1.844\t12 \t5  \t1  \t881   \t0.871587\t29.525\t12 \t50 \t13 \t881   \t4.17054\n",
            "13 \t906   \t1.819\t13 \t5  \t1  \t906   \t0.870769\t29.363\t13 \t38 \t11 \t906   \t3.9934 \n",
            "14 \t884   \t1.805\t14 \t5  \t1  \t884   \t0.838436\t29.525\t14 \t41 \t11 \t884   \t4.24162\n",
            "15 \t907   \t1.795\t15 \t5  \t1  \t907   \t0.854971\t29.592\t15 \t43 \t10 \t907   \t4.18778\n",
            "16 \t903   \t1.825\t16 \t5  \t1  \t903   \t0.892398\t29.45 \t16 \t41 \t10 \t903   \t4.47811\n",
            "17 \t887   \t1.739\t17 \t5  \t1  \t887   \t0.822727\t29.741\t17 \t41 \t11 \t887   \t4.27807\n",
            "18 \t921   \t1.795\t18 \t5  \t1  \t921   \t0.866588\t29.848\t18 \t41 \t8  \t921   \t4.61551\n",
            "19 \t922   \t1.801\t19 \t5  \t1  \t922   \t0.845813\t30.312\t19 \t43 \t11 \t922   \t4.55902\n",
            "20 \t917   \t1.773\t20 \t5  \t1  \t917   \t0.861087\t30.493\t20 \t43 \t10 \t917   \t4.58453\n",
            "21 \t885   \t1.742\t21 \t5  \t1  \t885   \t0.852899\t30.63 \t21 \t42 \t1  \t885   \t4.58291\n",
            "22 \t895   \t1.723\t22 \t5  \t1  \t895   \t0.852215\t30.705\t22 \t42 \t1  \t895   \t4.79061\n",
            "23 \t914   \t1.749\t23 \t5  \t1  \t914   \t0.841427\t30.781\t23 \t43 \t12 \t914   \t4.5331 \n",
            "24 \t912   \t1.745\t24 \t5  \t1  \t912   \t0.839032\t30.954\t24 \t41 \t10 \t912   \t4.58104\n",
            "25 \t882   \t1.715\t25 \t5  \t1  \t882   \t0.856607\t30.841\t25 \t43 \t10 \t882   \t4.7793 \n",
            "26 \t910   \t1.716\t26 \t5  \t1  \t910   \t0.846962\t30.931\t26 \t44 \t8  \t910   \t5.08766\n",
            "27 \t901   \t1.723\t27 \t5  \t1  \t901   \t0.856896\t31.159\t27 \t44 \t8  \t901   \t4.76757\n",
            "28 \t888   \t1.689\t28 \t5  \t1  \t888   \t0.84987 \t31.195\t28 \t45 \t1  \t888   \t5.20432\n",
            "29 \t879   \t1.673\t29 \t5  \t1  \t879   \t0.84857 \t30.882\t29 \t44 \t1  \t879   \t5.14219\n",
            "30 \t885   \t1.69 \t30 \t5  \t1  \t885   \t0.85668 \t31.087\t30 \t45 \t9  \t885   \t4.9793 \n",
            "31 \t890   \t1.677\t31 \t5  \t1  \t890   \t0.831066\t31.45 \t31 \t44 \t10 \t890   \t4.75978\n",
            "32 \t922   \t1.706\t32 \t5  \t1  \t922   \t0.84591 \t31.196\t32 \t45 \t8  \t922   \t4.94829\n",
            "33 \t915   \t1.731\t33 \t5  \t1  \t915   \t0.8687  \t30.993\t33 \t42 \t10 \t915   \t4.99729\n",
            "34 \t894   \t1.7  \t34 \t5  \t1  \t894   \t0.862554\t31.435\t34 \t42 \t5  \t894   \t4.98495\n",
            "35 \t907   \t1.682\t35 \t5  \t1  \t907   \t0.843135\t31.536\t35 \t44 \t1  \t907   \t4.71367\n",
            "36 \t888   \t1.682\t36 \t5  \t1  \t888   \t0.838377\t31.469\t36 \t42 \t3  \t888   \t5.13508\n",
            "37 \t894   \t1.677\t37 \t5  \t1  \t894   \t0.841826\t31.598\t37 \t44 \t10 \t894   \t5.03909\n",
            "38 \t890   \t1.665\t38 \t4  \t1  \t890   \t0.821447\t31.835\t38 \t44 \t10 \t890   \t5.23448\n",
            "39 \t890   \t1.648\t39 \t5  \t1  \t890   \t0.782366\t32.002\t39 \t42 \t13 \t890   \t4.75626\n",
            "40 \t914   \t1.721\t40 \t5  \t1  \t914   \t0.877017\t31.576\t40 \t43 \t10 \t914   \t5.17051\n",
            "41 \t894   \t1.649\t41 \t5  \t1  \t894   \t0.834146\t31.97 \t41 \t44 \t12 \t894   \t5.16421\n",
            "42 \t902   \t1.659\t42 \t5  \t1  \t902   \t0.821413\t31.975\t42 \t44 \t11 \t902   \t5.45072\n",
            "43 \t903   \t1.649\t43 \t5  \t1  \t903   \t0.80486 \t31.885\t43 \t45 \t11 \t903   \t5.1809 \n",
            "44 \t894   \t1.619\t44 \t5  \t1  \t894   \t0.811073\t31.783\t44 \t47 \t11 \t894   \t5.23698\n",
            "45 \t894   \t1.626\t45 \t5  \t0  \t894   \t0.827118\t32.025\t45 \t43 \t12 \t894   \t5.049  \n",
            "46 \t922   \t1.67 \t46 \t4  \t0  \t922   \t0.826499\t32.05 \t46 \t44 \t1  \t922   \t5.22834\n",
            "47 \t908   \t1.617\t47 \t5  \t0  \t908   \t0.843985\t32.235\t47 \t43 \t13 \t908   \t5.16467\n",
            "48 \t916   \t1.542\t48 \t5  \t0  \t916   \t0.911173\t32.213\t48 \t44 \t11 \t916   \t5.56971\n",
            "49 \t917   \t1.287\t49 \t5  \t0  \t917   \t1.04146 \t33.49 \t49 \t43 \t13 \t917   \t5.16913\n",
            "50 \t899   \t0.904\t50 \t5  \t0  \t899   \t1.02117 \t34.759\t50 \t44 \t11 \t899   \t4.35189\n",
            "51 \t912   \t0.765\t51 \t4  \t0  \t912   \t0.987813\t34.968\t51 \t43 \t13 \t912   \t4.3036 \n",
            "52 \t866   \t0.683\t52 \t5  \t0  \t866   \t0.952109\t35.338\t52 \t43 \t14 \t866   \t3.94535\n",
            "53 \t911   \t0.766\t53 \t5  \t0  \t911   \t1.03211 \t35.008\t53 \t44 \t16 \t911   \t4.23626\n",
            "54 \t889   \t0.758\t54 \t5  \t0  \t889   \t1.00371 \t34.877\t54 \t43 \t15 \t889   \t4.15041\n",
            "55 \t889   \t0.727\t55 \t5  \t0  \t889   \t0.963572\t35.006\t55 \t46 \t13 \t889   \t4.21829\n",
            "56 \t885   \t0.76 \t56 \t5  \t0  \t885   \t1.03073 \t35.002\t56 \t43 \t14 \t885   \t4.4247 \n",
            "57 \t924   \t0.75 \t57 \t5  \t0  \t924   \t0.942072\t34.846\t57 \t45 \t14 \t924   \t4.34722\n",
            "58 \t930   \t0.79 \t58 \t5  \t0  \t930   \t1.01681 \t34.627\t58 \t44 \t1  \t930   \t4.73897\n",
            "59 \t902   \t0.742\t59 \t5  \t0  \t902   \t0.982566\t34.816\t59 \t45 \t14 \t902   \t4.52771\n",
            "60 \t895   \t0.728\t60 \t5  \t0  \t895   \t1.003   \t34.917\t60 \t45 \t10 \t895   \t4.6113 \n",
            "61 \t899   \t0.732\t61 \t5  \t0  \t899   \t0.981925\t35.006\t61 \t46 \t3  \t899   \t4.79228\n",
            "62 \t891   \t0.785\t62 \t5  \t0  \t891   \t0.996381\t35.004\t62 \t45 \t13 \t891   \t4.62104\n",
            "63 \t897   \t0.781\t63 \t5  \t0  \t897   \t0.990474\t35.054\t63 \t45 \t3  \t897   \t4.95188\n",
            "64 \t897   \t0.769\t64 \t5  \t0  \t897   \t1.01865 \t34.955\t64 \t45 \t10 \t897   \t4.8358 \n",
            "65 \t904   \t0.721\t65 \t5  \t0  \t904   \t0.983442\t35.124\t65 \t45 \t16 \t904   \t4.67211\n",
            "66 \t905   \t0.739\t66 \t5  \t0  \t905   \t0.98736 \t34.897\t66 \t45 \t1  \t905   \t4.82974\n",
            "67 \t894   \t0.737\t67 \t5  \t0  \t894   \t1.0049  \t34.913\t67 \t47 \t1  \t894   \t4.78951\n",
            "68 \t882   \t0.779\t68 \t5  \t0  \t882   \t1.01988 \t34.959\t68 \t47 \t13 \t882   \t4.75282\n",
            "69 \t907   \t0.735\t69 \t5  \t0  \t907   \t1.01429 \t35.05 \t69 \t47 \t15 \t907   \t4.94545\n",
            "70 \t889   \t0.712\t70 \t5  \t0  \t889   \t0.960758\t35.111\t70 \t47 \t1  \t889   \t4.78338\n",
            "71 \t893   \t0.756\t71 \t5  \t0  \t893   \t1.01807 \t34.85 \t71 \t47 \t12 \t893   \t5.01812\n",
            "72 \t902   \t0.744\t72 \t5  \t0  \t902   \t0.964606\t35.013\t72 \t47 \t14 \t902   \t4.79049\n",
            "73 \t905   \t0.729\t73 \t5  \t0  \t905   \t0.99376 \t34.781\t73 \t47 \t14 \t905   \t5.06725\n",
            "74 \t885   \t0.742\t74 \t5  \t0  \t885   \t1.02442 \t34.698\t74 \t47 \t3  \t885   \t5.39767\n",
            "75 \t910   \t0.765\t75 \t5  \t0  \t910   \t1.00488 \t34.788\t75 \t45 \t14 \t910   \t5.17427\n",
            "76 \t904   \t0.741\t76 \t5  \t0  \t904   \t1.00793 \t34.946\t76 \t48 \t10 \t904   \t5.20376\n",
            "77 \t904   \t0.778\t77 \t5  \t0  \t904   \t1.06898 \t34.652\t77 \t48 \t1  \t904   \t5.62858\n",
            "78 \t914   \t0.775\t78 \t5  \t0  \t914   \t1.04803 \t34.521\t78 \t48 \t3  \t914   \t5.54793\n",
            "79 \t912   \t0.766\t79 \t4  \t0  \t912   \t0.998621\t34.58 \t79 \t51 \t15 \t912   \t5.10251\n",
            "80 \t901   \t0.776\t80 \t5  \t0  \t901   \t1.0207  \t34.454\t80 \t48 \t1  \t901   \t5.49235\n",
            "81 \t890   \t0.735\t81 \t5  \t0  \t890   \t1.02897 \t34.815\t81 \t48 \t13 \t890   \t4.96274\n",
            "82 \t930   \t0.752\t82 \t5  \t0  \t930   \t1.00623 \t34.351\t82 \t45 \t10 \t930   \t5.30356\n",
            "83 \t899   \t0.757\t83 \t5  \t0  \t899   \t1.04113 \t34.6  \t83 \t47 \t10 \t899   \t5.05213\n",
            "84 \t899   \t0.75 \t84 \t5  \t0  \t899   \t1.01069 \t34.659\t84 \t45 \t12 \t899   \t4.91902\n",
            "85 \t902   \t0.777\t85 \t5  \t0  \t902   \t1.02532 \t34.583\t85 \t46 \t5  \t902   \t5.16692\n",
            "86 \t891   \t0.71 \t86 \t5  \t0  \t891   \t0.986864\t34.608\t86 \t47 \t12 \t891   \t4.85534\n",
            "87 \t896   \t0.73 \t87 \t5  \t0  \t896   \t0.984429\t34.645\t87 \t47 \t15 \t896   \t4.95994\n",
            "88 \t894   \t0.748\t88 \t5  \t0  \t894   \t1.01217 \t34.627\t88 \t47 \t10 \t894   \t5.23296\n",
            "89 \t891   \t0.722\t89 \t5  \t0  \t891   \t0.990311\t35.059\t89 \t47 \t12 \t891   \t5.44881\n",
            "90 \t904   \t0.809\t90 \t5  \t0  \t904   \t1.06795 \t35.26 \t90 \t47 \t1  \t904   \t5.71283\n",
            "91 \t895   \t0.725\t91 \t4  \t0  \t895   \t1.0136  \t35.324\t91 \t47 \t1  \t895   \t5.61418\n",
            "92 \t882   \t0.722\t92 \t4  \t0  \t882   \t1.00236 \t35.654\t92 \t49 \t11 \t882   \t5.40817\n",
            "93 \t911   \t0.749\t93 \t5  \t0  \t911   \t1.03053 \t35.451\t93 \t47 \t9  \t911   \t5.63521\n",
            "94 \t921   \t0.699\t94 \t5  \t0  \t921   \t0.969742\t35.783\t94 \t48 \t11 \t921   \t5.46387\n",
            "95 \t906   \t0.723\t95 \t5  \t0  \t906   \t1.00213 \t35.666\t95 \t49 \t10 \t906   \t5.59271\n",
            "96 \t887   \t0.671\t96 \t5  \t0  \t887   \t0.968896\t35.713\t96 \t48 \t10 \t887   \t5.32359\n",
            "97 \t877   \t0.648\t97 \t5  \t0  \t877   \t0.969585\t35.743\t97 \t47 \t11 \t877   \t5.31328\n",
            "98 \t908   \t0.692\t98 \t5  \t0  \t908   \t0.98749 \t35.904\t98 \t47 \t10 \t908   \t5.6097 \n",
            "99 \t901   \t0.731\t99 \t5  \t0  \t901   \t1.02598 \t36.095\t99 \t50 \t10 \t901   \t5.52304\n",
            "100\t905   \t0.719\t100\t5  \t0  \t905   \t1.03443 \t36.053\t100\t48 \t11 \t905   \t5.70843\n"
          ]
        }
      ]
    },
    {
      "cell_type": "code",
      "source": [
        "# #Setup 2\n",
        "maxFitnessValues, meanFitnessValues = logbook.chapters['fitness'].select(\"min\", \"avg\")\n",
        "# print info for best solution found:\n",
        "best = hof.items[0]\n",
        "print('Operators used for setup2: and, or, not, nor, nand')\n",
        "print(\"-- Best Individual = \", best)\n",
        "print(\"-- length={}, height={}\".format(len(best), best.height))\n",
        "print(\"-- Best Fitness = \", best.fitness.values[0])\n",
        "\n",
        "plt.plot(maxFitnessValues, color='red')\n",
        "plt.plot(meanFitnessValues, color='green')\n",
        "plt.xlabel('Generation')\n",
        "plt.ylabel('Max / Average Fitness')\n",
        "plt.title('Max and Average Fitness over Generations')\n",
        "plt.show()"
      ],
      "metadata": {
        "colab": {
          "base_uri": "https://localhost:8080/",
          "height": 565
        },
        "id": "AEZZYGqB5C0n",
        "outputId": "7008c386-b026-47fc-979c-893ea7cc8dcf"
      },
      "execution_count": null,
      "outputs": [
        {
          "output_type": "stream",
          "name": "stdout",
          "text": [
            "Operators used for setup2: and, or, not, nor, nand\n",
            "-- Best Individual =  and_(nand(nor(and_(in_1, in_0), and_(and_(in_2, in_2), nor(in_1, in_0))), or_(in_2, or_(nor(in_1, in_0), in_2))), nand(nor(not_(in_1), nor(in_1, and_(in_1, in_2))), and_(not_(in_2), or_(nand(1, in_1), in_0))))\n",
            "-- length=37, height=5\n",
            "-- Best Fitness =  0.0\n"
          ]
        },
        {
          "output_type": "display_data",
          "data": {
            "text/plain": [
              "<Figure size 640x480 with 1 Axes>"
            ],
            "image/png": "[encoded data removed]"
          },
          "metadata": {}
        }
      ]
    },
    {
      "cell_type": "markdown",
      "source": [
        "**Setup 3:** Calculating the GP performance without the universal gates"
      ],
      "metadata": {
        "id": "iYEU286IPBUD"
      }
    },
    {
      "cell_type": "code",
      "source": [
        "# # calculate the truth table of even parity check:\n",
        "# parityIn_S3 = list(itertools.product([0, 1], repeat=NUM_INPUTS))\n",
        "# parityOut_S3 = []\n",
        "# for row in parityIn_S3:\n",
        "#     parityOut_S3.append(sum(row) % 2)\n",
        "\n",
        "# # calculate the difference between the results of the\n",
        "# # generated function and the expected parity results:\n",
        "# def parityError_S3(individual):\n",
        "#     func = toolbox.compile(expr=individual)\n",
        "#     return sum(func(*pIn) != pOut for pIn, pOut in zip(parityIn_S3, parityOut_S3))\n",
        "\n",
        "# # fitness measure:\n",
        "# def getCost_S3(individual):\n",
        "#     # nodes, edges, labels = gp.graph(individual)\n",
        "#     return parityError_S3(individual),  # return a tuple"
      ],
      "metadata": {
        "id": "q23QbrAegDtn"
      },
      "execution_count": null,
      "outputs": []
    },
    {
      "cell_type": "code",
      "source": [
        "# create the primitive set:\n",
        "primitiveSet = gp.PrimitiveSet(\"main\", NUM_INPUTS, \"in_\")\n",
        "primitiveSet.addPrimitive(operator.and_, 2)\n",
        "primitiveSet.addPrimitive(operator.or_, 2)\n",
        "primitiveSet.addPrimitive(operator.xor, 2)\n",
        "primitiveSet.addPrimitive(operator.not_, 1)\n",
        "\n",
        "\n",
        "# add terminal values:\n",
        "primitiveSet.addTerminal(1)\n",
        "primitiveSet.addTerminal(0)"
      ],
      "metadata": {
        "id": "TggpWKCdFUHP"
      },
      "execution_count": null,
      "outputs": []
    },
    {
      "cell_type": "code",
      "source": [
        "toolbox = base.Toolbox()\n",
        "\n",
        "# define a single objective, minimizing fitness strategy:\n",
        "creator.create(\"FitnessMin\", base.Fitness, weights=(-1.0,))\n",
        "\n",
        "# create the Individual class based on the primitive tree:\n",
        "creator.create(\"Individual\", gp.PrimitiveTree, fitness=creator.FitnessMin)\n",
        "\n",
        "# create a helper function for creating random trees using the primitive set:\n",
        "toolbox.register(\"expr\", gp.genFull, pset=primitiveSet, min_=MIN_TREE_HEIGHT, max_=MAX_TREE_HEIGHT)\n",
        "\n",
        "# create the individual operator to fill up an Individual instance:\n",
        "toolbox.register(\"individualCreator\", tools.initIterate, creator.Individual, toolbox.expr)\n",
        "\n",
        "# create the population operator to generate a list of individuals:\n",
        "toolbox.register(\"populationCreator\", tools.initRepeat, list, toolbox.individualCreator)\n",
        "\n",
        "# create an operator to compile the primitive tree into python code:\n",
        "toolbox.register(\"compile\", gp.compile, pset=primitiveSet)\n",
        "\n",
        "toolbox.register(\"evaluate\", getCost)\n",
        "\n",
        "# genetic operators:\n",
        "toolbox.register(\"select\", tools.selTournament, tournsize=3)\n",
        "toolbox.register(\"mate\", gp.cxOnePoint)\n",
        "toolbox.register(\"expr_mut\", gp.genGrow, min_=MUT_MIN_TREE_HEIGHT, max_=MUT_MAX_TREE_HEIGHT)\n",
        "toolbox.register(\"mutate\", gp.mutUniform, expr=toolbox.expr_mut, pset=primitiveSet)\n",
        "\n",
        "# bloat control:\n",
        "toolbox.decorate(\"mate\", gp.staticLimit(key=operator.attrgetter(\"height\"), max_value=LIMIT_TREE_HEIGHT))\n",
        "toolbox.decorate(\"mutate\", gp.staticLimit(key=operator.attrgetter(\"height\"), max_value=LIMIT_TREE_HEIGHT))"
      ],
      "metadata": {
        "id": "czlSPRdkP-w3"
      },
      "execution_count": null,
      "outputs": []
    },
    {
      "cell_type": "code",
      "source": [
        "population = toolbox.populationCreator(n=POPULATION_SIZE)\n",
        "# define the hall-of-fame object:\n",
        "hof = tools.HallOfFame(HALL_OF_FAME_SIZE)"
      ],
      "metadata": {
        "id": "Sw9QB-gQQ3gy"
      },
      "execution_count": null,
      "outputs": []
    },
    {
      "cell_type": "code",
      "source": [
        "stats_fit = tools.Statistics(lambda ind: ind.fitness.values)\n",
        "stats_size = tools.Statistics(len)\n",
        "mstats = tools.MultiStatistics(fitness=stats_fit, size=stats_size)\n",
        "mstats.register(\"avg\", numpy.mean)\n",
        "mstats.register(\"std\", numpy.std)\n",
        "mstats.register(\"min\", numpy.min)\n",
        "mstats.register(\"max\", numpy.max)"
      ],
      "metadata": {
        "id": "N__-Nv5RRAP_"
      },
      "execution_count": null,
      "outputs": []
    },
    {
      "cell_type": "code",
      "source": [
        "population, logbook = algorithms.eaSimple(population,\n",
        "                                                  toolbox,\n",
        "                                                  cxpb=P_CROSSOVER,\n",
        "                                                  mutpb=P_MUTATION,\n",
        "                                                  ngen=MAX_GENERATIONS,\n",
        "                                                  stats=mstats,\n",
        "                                                  halloffame=hof,\n",
        "                                                  verbose=True)"
      ],
      "metadata": {
        "colab": {
          "base_uri": "https://localhost:8080/"
        },
        "id": "TFyf727JREdh",
        "outputId": "9dcb8931-4f69-49aa-d8db-e7558a930657"
      },
      "execution_count": null,
      "outputs": [
        {
          "output_type": "stream",
          "name": "stdout",
          "text": [
            "   \t      \t                    fitness                     \t                      size                     \n",
            "   \t      \t------------------------------------------------\t-----------------------------------------------\n",
            "gen\tnevals\tavg  \tgen\tmax\tmin\tnevals\tstd     \tavg   \tgen\tmax\tmin\tnevals\tstd    \n",
            "0  \t1000  \t3.955\t0  \t8  \t0  \t1000  \t0.716223\t21.766\t0  \t60 \t4  \t1000  \t12.4998\n",
            "1  \t904   \t3.772\t1  \t8  \t0  \t904   \t0.766822\t20.876\t1  \t56 \t1  \t904   \t12.1988\n",
            "2  \t918   \t3.581\t2  \t8  \t0  \t918   \t0.922735\t21.71 \t2  \t56 \t1  \t918   \t12.4645\n",
            "3  \t892   \t3.319\t3  \t8  \t0  \t892   \t1.09692 \t23.405\t3  \t54 \t1  \t892   \t12.2529\n",
            "4  \t883   \t3.007\t4  \t8  \t0  \t883   \t1.22676 \t24.882\t4  \t54 \t2  \t883   \t12.4148\n",
            "5  \t911   \t2.784\t5  \t8  \t0  \t911   \t1.2959  \t25.995\t5  \t53 \t2  \t911   \t11.9313\n",
            "6  \t894   \t2.63 \t6  \t8  \t0  \t894   \t1.38315 \t26.511\t6  \t53 \t1  \t894   \t12.1114\n",
            "7  \t900   \t2.423\t7  \t8  \t0  \t900   \t1.45742 \t27.368\t7  \t55 \t2  \t900   \t11.8814\n",
            "8  \t900   \t2.327\t8  \t8  \t0  \t900   \t1.60439 \t27.877\t8  \t55 \t1  \t900   \t12.0751\n",
            "9  \t915   \t2.06 \t9  \t8  \t0  \t915   \t1.60698 \t28.688\t9  \t53 \t3  \t915   \t12.3426\n",
            "10 \t890   \t1.996\t10 \t8  \t0  \t890   \t1.74527 \t28.699\t10 \t53 \t2  \t890   \t12.4394\n",
            "11 \t884   \t1.834\t11 \t8  \t0  \t884   \t1.77382 \t27.736\t11 \t53 \t2  \t884   \t12.8585\n",
            "12 \t898   \t1.84 \t12 \t8  \t0  \t898   \t1.92728 \t28.183\t12 \t53 \t1  \t898   \t13.0498\n",
            "13 \t907   \t1.797\t13 \t8  \t0  \t907   \t1.95033 \t29.211\t13 \t53 \t2  \t907   \t12.8404\n",
            "14 \t899   \t1.84 \t14 \t8  \t0  \t899   \t1.95254 \t29.811\t14 \t53 \t1  \t899   \t12.8161\n",
            "15 \t878   \t1.764\t15 \t8  \t0  \t878   \t1.99156 \t29.554\t15 \t53 \t3  \t878   \t12.3102\n",
            "16 \t905   \t1.584\t16 \t8  \t0  \t905   \t1.90235 \t30.097\t16 \t51 \t3  \t905   \t11.6603\n",
            "17 \t875   \t1.535\t17 \t8  \t0  \t875   \t1.87424 \t30.198\t17 \t51 \t3  \t875   \t11.0316\n",
            "18 \t894   \t1.525\t18 \t8  \t0  \t894   \t1.93426 \t29.889\t18 \t53 \t2  \t894   \t10.3934\n",
            "19 \t891   \t1.57 \t19 \t8  \t0  \t891   \t1.92278 \t28.772\t19 \t54 \t2  \t891   \t10.1131\n",
            "20 \t886   \t1.489\t20 \t8  \t0  \t886   \t1.9026  \t28.269\t20 \t54 \t2  \t886   \t9.80452\n",
            "21 \t917   \t1.48 \t21 \t8  \t0  \t917   \t1.86912 \t27.772\t21 \t53 \t3  \t917   \t9.37582\n",
            "22 \t898   \t1.543\t22 \t8  \t0  \t898   \t1.91941 \t26.901\t22 \t52 \t1  \t898   \t9.38942\n",
            "23 \t880   \t1.436\t23 \t8  \t0  \t880   \t1.88942 \t26.468\t23 \t52 \t1  \t880   \t8.91027\n",
            "24 \t918   \t1.381\t24 \t8  \t0  \t918   \t1.82698 \t25.654\t24 \t52 \t2  \t918   \t8.49307\n",
            "25 \t905   \t1.417\t25 \t8  \t0  \t905   \t1.83987 \t26.237\t25 \t52 \t3  \t905   \t8.3627 \n",
            "26 \t891   \t1.39 \t26 \t8  \t0  \t891   \t1.78659 \t26.121\t26 \t52 \t5  \t891   \t8.28314\n",
            "27 \t900   \t1.349\t27 \t8  \t0  \t900   \t1.80422 \t25.84 \t27 \t52 \t3  \t900   \t8.04676\n",
            "28 \t902   \t1.293\t28 \t8  \t0  \t902   \t1.77515 \t25.714\t28 \t53 \t4  \t902   \t7.84463\n",
            "29 \t930   \t1.335\t29 \t8  \t0  \t930   \t1.78067 \t25.401\t29 \t54 \t4  \t930   \t8.0506 \n",
            "30 \t891   \t1.301\t30 \t8  \t0  \t891   \t1.80953 \t25.815\t30 \t54 \t5  \t891   \t8.11177\n",
            "31 \t893   \t1.301\t31 \t8  \t0  \t893   \t1.78673 \t25.386\t31 \t54 \t5  \t893   \t7.98893\n",
            "32 \t879   \t1.28 \t32 \t8  \t0  \t879   \t1.801   \t25.417\t32 \t54 \t1  \t879   \t7.59955\n",
            "33 \t923   \t1.289\t33 \t8  \t0  \t923   \t1.74799 \t25.952\t33 \t54 \t1  \t923   \t7.87919\n",
            "34 \t891   \t1.263\t34 \t8  \t0  \t891   \t1.80661 \t25.622\t34 \t54 \t7  \t891   \t7.58321\n",
            "35 \t884   \t1.116\t35 \t8  \t0  \t884   \t1.68183 \t25.859\t35 \t54 \t7  \t884   \t6.93939\n",
            "36 \t903   \t1.256\t36 \t8  \t0  \t903   \t1.77044 \t25.175\t36 \t54 \t1  \t903   \t7.20447\n",
            "37 \t883   \t1.085\t37 \t8  \t0  \t883   \t1.65643 \t25.017\t37 \t54 \t1  \t883   \t6.97501\n",
            "38 \t923   \t1.151\t38 \t8  \t0  \t923   \t1.66319 \t24.028\t38 \t52 \t1  \t923   \t6.68739\n",
            "39 \t907   \t1.247\t39 \t8  \t0  \t907   \t1.73954 \t24.174\t39 \t52 \t3  \t907   \t6.81056\n",
            "40 \t913   \t1.214\t40 \t8  \t0  \t913   \t1.72169 \t24.082\t40 \t52 \t3  \t913   \t7.17546\n",
            "41 \t908   \t1.234\t41 \t8  \t0  \t908   \t1.69388 \t23.717\t41 \t48 \t3  \t908   \t6.91049\n",
            "42 \t919   \t1.171\t42 \t8  \t0  \t919   \t1.68159 \t23.424\t42 \t48 \t3  \t919   \t6.91753\n",
            "43 \t901   \t1.18 \t43 \t8  \t0  \t901   \t1.6738  \t23.468\t43 \t48 \t5  \t901   \t6.70395\n",
            "44 \t891   \t1.106\t44 \t8  \t0  \t891   \t1.64218 \t23.652\t44 \t48 \t3  \t891   \t6.41614\n",
            "45 \t911   \t1.213\t45 \t8  \t0  \t911   \t1.71454 \t23.494\t45 \t48 \t1  \t911   \t6.78336\n",
            "46 \t874   \t1.107\t46 \t8  \t0  \t874   \t1.65818 \t24.13 \t46 \t48 \t3  \t874   \t7.06181\n",
            "47 \t924   \t1.201\t47 \t8  \t0  \t924   \t1.68065 \t24.146\t47 \t52 \t3  \t924   \t7.19824\n",
            "48 \t879   \t1.07 \t48 \t8  \t0  \t879   \t1.61651 \t24.674\t48 \t46 \t1  \t879   \t7.04555\n",
            "49 \t912   \t1.152\t49 \t8  \t0  \t912   \t1.6404  \t24.766\t49 \t46 \t3  \t912   \t7.27786\n",
            "50 \t899   \t1.11 \t50 \t8  \t0  \t899   \t1.65042 \t24.742\t50 \t48 \t6  \t899   \t7.32239\n",
            "51 \t902   \t1.072\t51 \t8  \t0  \t902   \t1.6226  \t24.813\t51 \t46 \t3  \t902   \t7.58275\n",
            "52 \t894   \t1.049\t52 \t6  \t0  \t894   \t1.61759 \t25.018\t52 \t48 \t3  \t894   \t7.41982\n",
            "53 \t908   \t1.15 \t53 \t6  \t0  \t908   \t1.66538 \t24.556\t53 \t48 \t1  \t908   \t7.06816\n",
            "54 \t885   \t1.044\t54 \t8  \t0  \t885   \t1.62421 \t24.769\t54 \t48 \t3  \t885   \t7.147  \n",
            "55 \t889   \t1.056\t55 \t6  \t0  \t889   \t1.6355  \t24.399\t55 \t48 \t1  \t889   \t7.12305\n",
            "56 \t923   \t1.064\t56 \t4  \t0  \t923   \t1.62908 \t24.664\t56 \t48 \t5  \t923   \t7.35426\n",
            "57 \t890   \t1.096\t57 \t5  \t0  \t890   \t1.63303 \t24.526\t57 \t48 \t3  \t890   \t7.56342\n",
            "58 \t902   \t1.12 \t58 \t8  \t0  \t902   \t1.68333 \t24.964\t58 \t48 \t3  \t902   \t7.79902\n",
            "59 \t903   \t1.105\t59 \t8  \t0  \t903   \t1.62234 \t24.9  \t59 \t47 \t1  \t903   \t7.83722\n",
            "60 \t899   \t1.079\t60 \t6  \t0  \t899   \t1.60086 \t24.847\t60 \t52 \t1  \t899   \t7.5926 \n",
            "61 \t907   \t1.14 \t61 \t8  \t0  \t907   \t1.6536  \t24.981\t61 \t48 \t1  \t907   \t7.5248 \n",
            "62 \t910   \t1.132\t62 \t8  \t0  \t910   \t1.66691 \t24.959\t62 \t48 \t3  \t910   \t7.61901\n",
            "63 \t878   \t0.998\t63 \t8  \t0  \t878   \t1.60125 \t25.171\t63 \t48 \t5  \t878   \t7.76194\n",
            "64 \t917   \t1.091\t64 \t8  \t0  \t917   \t1.64339 \t24.43 \t64 \t44 \t3  \t917   \t7.45004\n",
            "65 \t893   \t1.19 \t65 \t8  \t0  \t893   \t1.67687 \t24.062\t65 \t44 \t3  \t893   \t7.50854\n",
            "66 \t903   \t1.142\t66 \t8  \t0  \t903   \t1.66007 \t23.971\t66 \t44 \t3  \t903   \t7.47142\n",
            "67 \t927   \t1.157\t67 \t4  \t0  \t927   \t1.6451  \t23.76 \t67 \t44 \t7  \t927   \t7.06515\n",
            "68 \t904   \t1.254\t68 \t8  \t0  \t904   \t1.73132 \t23.694\t68 \t44 \t3  \t904   \t7.16885\n",
            "69 \t906   \t1.171\t69 \t8  \t0  \t906   \t1.67385 \t23.558\t69 \t44 \t1  \t906   \t7.56774\n",
            "70 \t895   \t1.116\t70 \t6  \t0  \t895   \t1.63907 \t23.993\t70 \t44 \t3  \t895   \t7.63472\n",
            "71 \t905   \t1.078\t71 \t8  \t0  \t905   \t1.62601 \t23.827\t71 \t44 \t3  \t905   \t7.50074\n",
            "72 \t876   \t1.089\t72 \t5  \t0  \t876   \t1.60968 \t23.569\t72 \t44 \t3  \t876   \t7.43096\n",
            "73 \t912   \t1.056\t73 \t6  \t0  \t912   \t1.5852  \t23.457\t73 \t44 \t5  \t912   \t7.57668\n",
            "74 \t920   \t1.131\t74 \t8  \t0  \t920   \t1.6419  \t23.536\t74 \t44 \t1  \t920   \t7.97475\n",
            "75 \t912   \t1.081\t75 \t8  \t0  \t912   \t1.62863 \t24.078\t75 \t44 \t3  \t912   \t7.63374\n",
            "76 \t895   \t0.955\t76 \t8  \t0  \t895   \t1.56364 \t24.209\t76 \t48 \t1  \t895   \t7.39387\n",
            "77 \t898   \t1.005\t77 \t6  \t0  \t898   \t1.57193 \t24.072\t77 \t48 \t4  \t898   \t7.43363\n",
            "78 \t909   \t1.077\t78 \t8  \t0  \t909   \t1.62637 \t23.993\t78 \t48 \t4  \t909   \t7.40655\n",
            "79 \t907   \t1.168\t79 \t6  \t0  \t907   \t1.65583 \t23.792\t79 \t48 \t3  \t907   \t7.21739\n",
            "80 \t905   \t1.089\t80 \t8  \t0  \t905   \t1.61836 \t24.023\t80 \t50 \t7  \t905   \t7.25152\n",
            "81 \t899   \t1.062\t81 \t8  \t0  \t899   \t1.61622 \t23.999\t81 \t43 \t3  \t899   \t7.08456\n",
            "82 \t914   \t1.001\t82 \t8  \t0  \t914   \t1.60343 \t24.052\t82 \t42 \t5  \t914   \t7.3457 \n",
            "83 \t898   \t1.123\t83 \t8  \t0  \t898   \t1.62538 \t23.801\t83 \t41 \t6  \t898   \t7.34652\n",
            "84 \t885   \t0.976\t84 \t4  \t0  \t885   \t1.54254 \t24.029\t84 \t43 \t1  \t885   \t7.33445\n",
            "85 \t904   \t1.036\t85 \t8  \t0  \t904   \t1.58326 \t23.967\t85 \t41 \t5  \t904   \t6.99099\n",
            "86 \t894   \t1.08 \t86 \t8  \t0  \t894   \t1.58354 \t23.829\t86 \t42 \t5  \t894   \t7.01411\n",
            "87 \t902   \t1.063\t87 \t5  \t0  \t902   \t1.57259 \t23.698\t87 \t42 \t7  \t902   \t7.08299\n",
            "88 \t901   \t1.154\t88 \t8  \t0  \t901   \t1.68828 \t23.342\t88 \t42 \t7  \t901   \t7.25004\n",
            "89 \t899   \t1.086\t89 \t8  \t0  \t899   \t1.61078 \t23.529\t89 \t42 \t1  \t899   \t7.49087\n",
            "90 \t893   \t0.96 \t90 \t6  \t0  \t893   \t1.52066 \t23.879\t90 \t42 \t3  \t893   \t7.41366\n",
            "91 \t909   \t1.109\t91 \t7  \t0  \t909   \t1.627   \t23.801\t91 \t42 \t3  \t909   \t7.5291 \n",
            "92 \t871   \t0.993\t92 \t8  \t0  \t871   \t1.57002 \t24.195\t92 \t43 \t5  \t871   \t7.46076\n",
            "93 \t900   \t1.02 \t93 \t5  \t0  \t900   \t1.57467 \t24.513\t93 \t43 \t1  \t900   \t6.9524 \n",
            "94 \t903   \t1.027\t94 \t8  \t0  \t903   \t1.56406 \t24.387\t94 \t44 \t5  \t903   \t7.03841\n",
            "95 \t906   \t1.111\t95 \t8  \t0  \t906   \t1.64094 \t24.086\t95 \t45 \t7  \t906   \t7.14315\n",
            "96 \t892   \t1.039\t96 \t7  \t0  \t892   \t1.59483 \t24.195\t96 \t45 \t5  \t892   \t7.07439\n",
            "97 \t879   \t1.006\t97 \t8  \t0  \t879   \t1.58176 \t24.116\t97 \t45 \t7  \t879   \t7.10004\n",
            "98 \t898   \t1.013\t98 \t5  \t0  \t898   \t1.56679 \t23.635\t98 \t43 \t3  \t898   \t7.36083\n",
            "99 \t902   \t1.147\t99 \t8  \t0  \t902   \t1.68979 \t23.848\t99 \t42 \t1  \t902   \t7.20228\n",
            "100\t912   \t1.018\t100\t7  \t0  \t912   \t1.59301 \t23.753\t100\t42 \t1  \t912   \t7.02666\n"
          ]
        }
      ]
    },
    {
      "cell_type": "code",
      "source": [
        "#Setup 3\n",
        "maxFitnessValues, meanFitnessValues = logbook.chapters['fitness'].select(\"min\", \"avg\")\n",
        "# print info for best solution found:\n",
        "best = hof.items[0]\n",
        "print('Operators used for setup3: and, or, not, xor')\n",
        "print(\"-- Best Individual = \", best)\n",
        "print(\"-- length={}, height={}\".format(len(best), best.height))\n",
        "print(\"-- Best Fitness = \", best.fitness.values[0])\n",
        "\n",
        "plt.plot(maxFitnessValues, color='red')\n",
        "plt.plot(meanFitnessValues, color='green')\n",
        "plt.xlabel('Generation')\n",
        "plt.ylabel('Max / Average Fitness')\n",
        "plt.title('Max and Average Fitness over Generations')\n",
        "plt.show()"
      ],
      "metadata": {
        "colab": {
          "base_uri": "https://localhost:8080/",
          "height": 565
        },
        "id": "PK1OdYLf5FV5",
        "outputId": "4826b9bb-8422-4595-b665-9ea19509b53f"
      },
      "execution_count": null,
      "outputs": [
        {
          "output_type": "stream",
          "name": "stdout",
          "text": [
            "Operators used for setup3: and, or, not, xor\n",
            "-- Best Individual =  xor(xor(xor(or_(and_(in_0, 1), xor(in_1, in_1)), xor(in_1, in_2)), in_1), not_(and_(or_(1, 1), xor(1, in_1))))\n",
            "-- length=22, height=5\n",
            "-- Best Fitness =  0.0\n"
          ]
        },
        {
          "output_type": "display_data",
          "data": {
            "text/plain": [
              "<Figure size 640x480 with 1 Axes>"
            ],
            "image/png": "[encoded data removed]"
          },
          "metadata": {}
        }
      ]
    },
    {
      "cell_type": "code",
      "source": [],
      "metadata": {
        "id": "8z9RImIpxqG6"
      },
      "execution_count": null,
      "outputs": []
    }
  ],
  "metadata": {
    "colab": {
      "provenance": [],
      "include_colab_link": true
    },
    "kernelspec": {
      "display_name": "Python 3",
      "name": "python3"
    },
    "language_info": {
      "name": "python"
    }
  },
  "nbformat": 4,
  "nbformat_minor": 0
}